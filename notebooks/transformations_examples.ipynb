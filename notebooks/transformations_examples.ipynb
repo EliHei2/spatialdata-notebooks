{
 "cells": [
  {
   "cell_type": "code",
   "execution_count": null,
   "id": "52fa838f",
   "metadata": {},
   "outputs": [],
   "source": [
    "%matplotlib inline"
   ]
  },
  {
   "cell_type": "code",
   "execution_count": null,
   "id": "eecff4d4",
   "metadata": {
    "lines_to_next_cell": 0
   },
   "outputs": [],
   "source": [
    "import pytest\n",
    "from spatialdata import SpatialData\n",
    "from spatialdata._core.models import Image2DModel, Labels2DModel, ShapesModel\n",
    "from spatialdata._core.transformations import Identity, Scale, Translation, MapAxis, Sequence, Affine\n",
    "import scipy.misc\n",
    "from skimage.segmentation import slic\n",
    "import matplotlib.pyplot as plt\n",
    "import numpy as np\n",
    "from napari_spatialdata import Interactive\n",
    "from pprint import pprint\n",
    "import math\n",
    "import pytest\n",
    "import tempfile\n",
    "import os\n",
    "from spatialdata._core._spatialdata_ops import (\n",
    "    get_transformation,\n",
    "    set_transformation,\n",
    "    remove_transformation,\n",
    "    get_transformation_between_coordinate_systems,\n",
    ")\n",
    "\n",
    "SKIP_PLOTS = False"
   ]
  },
  {
   "cell_type": "code",
   "execution_count": null,
   "id": "384a79eb",
   "metadata": {},
   "outputs": [],
   "source": [
    "def hacky_plot(sdata) -> None:\n",
    "    if SKIP_PLOTS:\n",
    "        return\n",
    "    print(\"plotting... \", end=\"\")\n",
    "    interactive = Interactive(sdata, headless=True)\n",
    "    # to distinguish between the black of the image background and the black of the napari background (now white)\n",
    "    interactive._viewer.theme = \"light\"\n",
    "    screenshot = interactive._viewer.screenshot(canvas_only=True)\n",
    "    interactive._viewer.theme = \"dark\"\n",
    "    interactive._viewer.close()\n",
    "    plt.imshow(screenshot)\n",
    "    plt.show()\n",
    "    print(\"done\")"
   ]
  },
  {
   "cell_type": "code",
   "execution_count": null,
   "id": "d52ed709",
   "metadata": {},
   "outputs": [],
   "source": [
    "im_data = scipy.misc.face()\n",
    "print(im_data.shape)\n",
    "if not SKIP_PLOTS:\n",
    "    plt.imshow(im_data)\n",
    "    plt.show()"
   ]
  },
  {
   "cell_type": "code",
   "execution_count": null,
   "id": "200863a8",
   "metadata": {},
   "outputs": [],
   "source": [
    "im = Image2DModel.parse(im_data, dims=[\"y\", \"x\", \"c\"])\n",
    "if not SKIP_PLOTS:\n",
    "    plt.imshow(im.transpose(\"y\", \"x\", \"c\").data)\n",
    "    plt.show()"
   ]
  },
  {
   "cell_type": "code",
   "execution_count": null,
   "id": "53137b9a",
   "metadata": {},
   "outputs": [],
   "source": [
    "la_data = slic(im_data, n_segments=100, compactness=10, sigma=1)\n",
    "print(la_data.shape)\n",
    "if not SKIP_PLOTS:\n",
    "    plt.imshow(la_data)\n",
    "    plt.show()"
   ]
  },
  {
   "cell_type": "code",
   "execution_count": null,
   "id": "ed954b78",
   "metadata": {},
   "outputs": [],
   "source": [
    "la = Labels2DModel.parse(la_data, dims=[\"y\", \"x\"])"
   ]
  },
  {
   "cell_type": "code",
   "execution_count": null,
   "id": "b71e59ec",
   "metadata": {},
   "outputs": [],
   "source": [
    "coords = np.array([[610, 450], [730, 325], [575, 300], [480, 90]])\n",
    "if not SKIP_PLOTS:\n",
    "    plt.imshow(im_data)\n",
    "    plt.scatter(coords[:, 0], coords[:, 1], c=\"r\")\n",
    "    plt.show()"
   ]
  },
  {
   "cell_type": "code",
   "execution_count": null,
   "id": "ea1e374c",
   "metadata": {},
   "outputs": [],
   "source": [
    "circles = ShapesModel.parse(coords=coords, shape_type=\"Circle\", shape_size=np.array([30, 30, 30, 100]))"
   ]
  },
  {
   "cell_type": "code",
   "execution_count": null,
   "id": "e4afb463",
   "metadata": {},
   "outputs": [],
   "source": [
    "sdata0 = SpatialData(images={\"face\": im}, labels={\"slic\": la}, shapes={\"landmarks\": circles})\n",
    "print(sdata0)"
   ]
  },
  {
   "cell_type": "code",
   "execution_count": null,
   "id": "c5de5d2a",
   "metadata": {},
   "outputs": [],
   "source": [
    "hacky_plot(sdata0)"
   ]
  },
  {
   "cell_type": "code",
   "execution_count": null,
   "id": "4887b6a9",
   "metadata": {},
   "outputs": [],
   "source": [
    "pprint(get_transformation(im, get_all=True))\n",
    "pprint(sdata0.coordinate_systems)"
   ]
  },
  {
   "cell_type": "code",
   "execution_count": null,
   "id": "043c1c7b",
   "metadata": {},
   "outputs": [],
   "source": [
    "set_transformation(im, Identity(), \"my_other_space0\")\n",
    "set_transformation(la, Identity(), \"my_other_space1\")\n",
    "print(get_transformation(im, get_all=True))\n",
    "print(sdata0.coordinate_systems)"
   ]
  },
  {
   "cell_type": "code",
   "execution_count": null,
   "id": "5d5f4e3a",
   "metadata": {},
   "outputs": [],
   "source": [
    "print(get_transformation(im))\n",
    "print(get_transformation(im, to_coordinate_system=\"global\"))\n",
    "print(get_transformation(im, to_coordinate_system=\"my_other_space0\"))"
   ]
  },
  {
   "cell_type": "code",
   "execution_count": null,
   "id": "9f9ef6c6",
   "metadata": {},
   "outputs": [],
   "source": [
    "scale = Scale([2.0], axes=(\"x\",))\n",
    "set_transformation(im, scale)\n",
    "hacky_plot(sdata0)"
   ]
  },
  {
   "cell_type": "code",
   "execution_count": null,
   "id": "a89108f2",
   "metadata": {},
   "outputs": [],
   "source": [
    "map_axis = MapAxis({\"x\": \"y\", \"y\": \"x\"})\n",
    "set_transformation(im, map_axis)\n",
    "hacky_plot(sdata0)"
   ]
  },
  {
   "cell_type": "code",
   "execution_count": null,
   "id": "fc03c17f",
   "metadata": {},
   "outputs": [],
   "source": [
    "theta = math.pi / 6\n",
    "rotation = Affine(\n",
    "    [[math.cos(theta), -math.sin(theta), 0], [math.sin(theta), math.cos(theta), 0], [0, 0, 1]],\n",
    "    input_axes=(\"x\", \"y\"),\n",
    "    output_axes=(\"x\", \"y\"),\n",
    ")\n",
    "set_transformation(im, rotation)\n",
    "hacky_plot(sdata0)"
   ]
  },
  {
   "cell_type": "code",
   "execution_count": null,
   "id": "8abb0d3d",
   "metadata": {},
   "outputs": [],
   "source": [
    "# translation will have effect only on the x, y axes since the z axis is not present in the image\n",
    "translation = Translation([100, 200, 300], axes=(\"x\", \"y\", \"z\"))\n",
    "# the sequence can compose transformations even when the axes don't match\n",
    "sequence = Sequence([rotation, rotation.inverse(), scale, scale.inverse(), translation])\n",
    "print(sequence.to_affine_matrix(input_axes=(\"x\", \"y\"), output_axes=(\"x\", \"y\")))"
   ]
  },
  {
   "cell_type": "code",
   "execution_count": null,
   "id": "caab31cd",
   "metadata": {},
   "outputs": [],
   "source": [
    "set_transformation(im, sequence)\n",
    "hacky_plot(sdata0)"
   ]
  },
  {
   "cell_type": "code",
   "execution_count": null,
   "id": "1af14af4",
   "metadata": {},
   "outputs": [],
   "source": [
    "print(translation.to_affine_matrix(input_axes=(\"x\", \"y\"), output_axes=(\"x\", \"y\")))\n",
    "print(translation.to_affine_matrix(input_axes=(\"x\", \"y\", \"z\"), output_axes=(\"x\", \"y\", \"z\")))\n",
    "with pytest.raises(ValueError, match=\"Input axes must be a subset of output axes.\"):\n",
    "    print(translation.to_affine_matrix(input_axes=(\"c\", \"z\", \"y\", \"x\"), output_axes=(\"x\", \"y\")))\n",
    "# notice that z doesn't appear in the output axes since it was not in the input axes, but c is passed through since it was in the input axes\n",
    "# you can see it below (this is the same matrix that gets printed as output\n",
    "#     x   y   c\n",
    "# c   0   0   1   0\n",
    "# z   0   0   0   0\n",
    "# y   0   1   0 100\n",
    "# x   1   0   0 100\n",
    "#     0   0   0   1\n",
    "print(translation.to_affine_matrix(input_axes=(\"x\", \"y\", \"c\"), output_axes=(\"c\", \"z\", \"y\", \"x\")))"
   ]
  },
  {
   "cell_type": "code",
   "execution_count": null,
   "id": "06a5305a",
   "metadata": {},
   "outputs": [],
   "source": [
    "set_transformation(im, rotation)\n",
    "print(get_transformation_between_coordinate_systems(sdata0, im, \"global\"))\n",
    "print(get_transformation_between_coordinate_systems(sdata0, \"global\", im))"
   ]
  },
  {
   "cell_type": "code",
   "execution_count": null,
   "id": "4d2e5d6e",
   "metadata": {},
   "outputs": [],
   "source": [
    "print(get_transformation_between_coordinate_systems(sdata0, im, \"my_other_space0\"))"
   ]
  },
  {
   "cell_type": "code",
   "execution_count": null,
   "id": "ce1622de",
   "metadata": {},
   "outputs": [],
   "source": [
    "print(get_transformation_between_coordinate_systems(sdata0, \"global\", \"my_other_space0\"))"
   ]
  },
  {
   "cell_type": "code",
   "execution_count": null,
   "id": "4192bdd0",
   "metadata": {},
   "outputs": [],
   "source": [
    "print(get_transformation_between_coordinate_systems(sdata0, im, la))"
   ]
  },
  {
   "cell_type": "code",
   "execution_count": null,
   "id": "f9c608e9",
   "metadata": {},
   "outputs": [],
   "source": [
    "print(get_transformation(im, get_all=True))\n",
    "# remove_transformation_in_memory() is a static function, whle remove_transformation() can only operate on\n",
    "# SpatialData objects, so it needs to check if the spatiadata object is backed by a zarr file\n",
    "print(remove_transformation(im, \"my_other_space0\"))\n",
    "print(get_transformation(im, get_all=True))"
   ]
  },
  {
   "cell_type": "code",
   "execution_count": null,
   "id": "ee2a1421",
   "metadata": {},
   "outputs": [],
   "source": [
    "sdata1 = SpatialData(images={\"im0\": im, \"im1\": im, \"im2\": im})\n",
    "with pytest.raises(ValueError, match=\"Element found multiple times in the SpatialData object\"):\n",
    "    set_transformation(im, Identity(), write_to_sdata=sdata1)"
   ]
  },
  {
   "cell_type": "code",
   "execution_count": null,
   "id": "0ecc3cad",
   "metadata": {},
   "outputs": [],
   "source": [
    "print(get_transformation(im, get_all=True))\n",
    "remove_transformation(im, \"global\")\n",
    "print(get_transformation(im, get_all=True))"
   ]
  },
  {
   "cell_type": "code",
   "execution_count": null,
   "id": "0b388cb6",
   "metadata": {},
   "outputs": [],
   "source": [
    "tmpdir = tempfile.TemporaryDirectory()"
   ]
  },
  {
   "cell_type": "code",
   "execution_count": null,
   "id": "4f29bc5b",
   "metadata": {},
   "outputs": [],
   "source": [
    "zarr_path = os.path.join(tmpdir.name, \"sdata.zarr\")\n",
    "# writing an object re-reads the file immediately...\n",
    "sdata1.write(zarr_path)\n",
    "print(sdata1)\n",
    "# ...so now the objects we read are distinct\n",
    "im0 = sdata1.images[\"im0\"]\n",
    "im1 = sdata1.images[\"im1\"]\n",
    "im2 = sdata1.images[\"im2\"]\n",
    "assert len(set([id(im0), id(im1), id(im2)])) == 3"
   ]
  },
  {
   "cell_type": "code",
   "execution_count": null,
   "id": "6ea56d3d",
   "metadata": {},
   "outputs": [],
   "source": [
    "scale = Scale([2.0], axes=(\"x\",))\n",
    "set_transformation(im0, scale, \"space0\")\n",
    "set_transformation(im1, scale.inverse(), \"space0\")\n",
    "set_transformation(im1, scale, \"space1\")\n",
    "set_transformation(im2, scale.inverse(), \"space1\")\n",
    "set_transformation(im2, scale, \"space2\")\n",
    "\n",
    "print(sdata1.coordinate_systems)\n",
    "print(\n",
    "    get_transformation_between_coordinate_systems(\n",
    "        sdata=sdata1, source_coordinate_system=\"space0\", target_coordinate_system=\"space2\"\n",
    "    ).to_affine_matrix(input_axes=(\"x\", \"y\"), output_axes=(\"x\", \"y\"))\n",
    ")\n",
    "print(\n",
    "    get_transformation_between_coordinate_systems(\n",
    "        sdata=sdata1, source_coordinate_system=\"space2\", target_coordinate_system=\"space0\"\n",
    "    ).to_affine_matrix(input_axes=(\"x\"), output_axes=(\"x\"))\n",
    ")"
   ]
  },
  {
   "cell_type": "code",
   "execution_count": null,
   "id": "f2b97401",
   "metadata": {},
   "outputs": [],
   "source": [
    "tmpdir.cleanup()"
   ]
  },
  {
   "cell_type": "code",
   "execution_count": null,
   "id": "76a26c65",
   "metadata": {
    "lines_to_next_cell": 0
   },
   "outputs": [],
   "source": [
    "# I stop here regarding the transformations, there are some bugs (forgot to finish one part the code), gonna fix it\n",
    "# see how the points are wrong\n",
    "# see also how the new image is now rotated (the data is rotated itself)! the padding has been added by the method\n",
    "rotated_sdata = rotation.transform(sdata0)\n",
    "hacky_plot(rotated_sdata)\n",
    "\n",
    "rotated_sdata = rotation.transform(sdata0, maintain_positioning=True)\n",
    "hacky_plot(rotated_sdata)\n",
    "\n",
    "merged_sdata = SpatialData(images={\"face_rotated\": rotated_sdata.images[\"face\"]}, labels={\"slic\": la})\n",
    "hacky_plot(merged_sdata)"
   ]
  },
  {
   "cell_type": "code",
   "execution_count": null,
   "id": "bac4768f",
   "metadata": {},
   "outputs": [],
   "source": [
    "# just a little more on io and backing\n",
    "tmpdir = tempfile.TemporaryDirectory()"
   ]
  },
  {
   "cell_type": "code",
   "execution_count": null,
   "id": "1538fca3",
   "metadata": {},
   "outputs": [],
   "source": [
    "zarr_path = os.path.join(tmpdir.name, \"sdata.zarr\")\n",
    "sdata0.write(zarr_path)\n",
    "\n",
    "with pytest.raises(ValueError, match=\"Can't overwrite the original file\"):\n",
    "    sdata0.write(zarr_path)\n",
    "\n",
    "another_zarr_path = os.path.join(tmpdir.name, \"another_sdata.zarr\")\n",
    "sdata0.write(another_zarr_path)\n",
    "\n",
    "with pytest.raises(ValueError, match=\"The Zarr store already exists. Use overwrite=True to overwrite the store.\"):\n",
    "    sdata0.write(zarr_path)\n",
    "\n",
    "sdata0.write(zarr_path, overwrite=True)"
   ]
  },
  {
   "cell_type": "code",
   "execution_count": null,
   "id": "fc84a3c0",
   "metadata": {},
   "outputs": [],
   "source": [
    "sdata2 = SpatialData(images=sdata0.images)\n",
    "\n",
    "# notice how sdata2 is not bakced, but the element is backed from zarr from the old sdata object, this is fine, let's see why\n",
    "print(sdata2.is_backed())\n",
    "print(sdata2.images[\"face\"].data)\n",
    "\n",
    "# the function called without the argument \"write_to_sdata\" does not overwrite the transformation of the original\n",
    "# file, it jsut modifies the in-memory object of sdata2\n",
    "set_transformation(sdata2.images[\"face\"], scale)\n",
    "\n",
    "# let's check this\n",
    "print(get_transformation(sdata0.images[\"face\"], get_all=True))\n",
    "print(get_transformation(sdata2.images[\"face\"], get_all=True))\n",
    "\n",
    "# but\n",
    "sdata0_read_again = SpatialData.read(zarr_path)\n",
    "get_transformation(sdata0_read_again.images[\"face\"], get_all=True)\n",
    "# correct!"
   ]
  },
  {
   "cell_type": "code",
   "execution_count": null,
   "id": "e02eae40",
   "metadata": {},
   "outputs": [],
   "source": [
    "# if we want to modify the transformation of sdata2 to disk, we have first to save it\n",
    "yet_another_zarr_path = os.path.join(tmpdir.name, \"yet_another_sdata.zarr\")\n",
    "# but now that we save it the image will point to the new zarr store; it has nothing to do with the original one anymore\n",
    "sdata2.write(yet_another_zarr_path)\n",
    "print(sdata2.images[\"face\"].data)\n",
    "\n",
    "# this modifies the transformation in-memory\n",
    "set_transformation(sdata2.images[\"face\"], scale)\n",
    "# while this will change it on disk\n",
    "set_transformation(sdata2.images[\"face\"], scale, write_to_sdata=sdata2)"
   ]
  },
  {
   "cell_type": "code",
   "execution_count": null,
   "id": "57842ab0",
   "metadata": {},
   "outputs": [],
   "source": [
    "# finally notice that we can add new elements to a spatialdata object after it has been created\n",
    "# if the object is not backed, the data will be added in-memory, otherwise it will be also immediately saved to disk\n",
    "print(sdata2.is_backed())\n",
    "face0 = sdata2.images[\"face\"]\n",
    "sdata2.add_image(\"another_face\", face0)\n",
    "face1 = sdata2.images[\"another_face\"]\n",
    "assert id(face0) != id(face1)\n",
    "# notice how the objects are different, because when we call add_image(), the new image is immediately re-read from disk"
   ]
  },
  {
   "cell_type": "code",
   "execution_count": null,
   "id": "3a3c61dd",
   "metadata": {},
   "outputs": [],
   "source": [
    "# let's show the behaviour in-memory: let's trick the object to believe that is in-memory\n",
    "sdata2.path = None\n",
    "sdata2.add_image(\"yet_another_face\", face0)\n",
    "face2 = sdata2.images[\"yet_another_face\"]\n",
    "assert id(face0) == id(face2)"
   ]
  },
  {
   "cell_type": "code",
   "execution_count": null,
   "id": "b69e526b",
   "metadata": {},
   "outputs": [],
   "source": [
    "tmpdir.cleanup()"
   ]
  }
 ],
 "metadata": {
  "jupytext": {
   "cell_metadata_filter": "-all",
   "main_language": "python",
   "notebook_metadata_filter": "-all"
  },
  "kernelspec": {
   "display_name": "Python 3 (ipykernel)",
   "language": "python",
   "name": "python3"
  },
  "language_info": {
   "codemirror_mode": {
    "name": "ipython",
    "version": 3
   },
   "file_extension": ".py",
   "mimetype": "text/x-python",
   "name": "python",
   "nbconvert_exporter": "python",
   "pygments_lexer": "ipython3",
   "version": "3.10.8"
  }
 },
 "nbformat": 4,
 "nbformat_minor": 5
}
