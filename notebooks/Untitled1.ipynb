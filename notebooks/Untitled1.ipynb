{
 "cells": [
  {
   "cell_type": "code",
   "execution_count": 1,
   "id": "2eac4b25-5ae3-49f6-b4ce-14610f6fb247",
   "metadata": {
    "tags": []
   },
   "outputs": [
    {
     "ename": "ModuleNotFoundError",
     "evalue": "No module named 'numpy'",
     "output_type": "error",
     "traceback": [
      "\u001b[0;31m---------------------------------------------------------------------------\u001b[0m",
      "\u001b[0;31mModuleNotFoundError\u001b[0m                       Traceback (most recent call last)",
      "Input \u001b[0;32mIn [1]\u001b[0m, in \u001b[0;36m<cell line: 1>\u001b[0;34m()\u001b[0m\n\u001b[0;32m----> 1\u001b[0m \u001b[38;5;28;01mimport\u001b[39;00m \u001b[38;5;21;01mnumpy\u001b[39;00m \u001b[38;5;28;01mas\u001b[39;00m \u001b[38;5;21;01mnp\u001b[39;00m\n",
      "\u001b[0;31mModuleNotFoundError\u001b[0m: No module named 'numpy'"
     ]
    }
   ],
   "source": [
    "import numpy as np"
   ]
  },
  {
   "cell_type": "code",
   "execution_count": 7,
   "id": "badb413e-0adc-4c1b-a98c-cf0084347f88",
   "metadata": {
    "tags": []
   },
   "outputs": [
    {
     "name": "stdout",
     "output_type": "stream",
     "text": [
      "Obtaining file:///Volumes/Projects/spatialdata_paper/spatialdata-io\n",
      "  Installing build dependencies ... \u001b[?25ldone\n",
      "\u001b[?25h  Checking if build backend supports build_editable ... \u001b[?25ldone\n",
      "\u001b[?25h  Getting requirements to build editable ... \u001b[?25ldone\n",
      "\u001b[?25h  Preparing editable metadata (pyproject.toml) ... \u001b[?25ldone\n",
      "\u001b[?25hCollecting spatialdata@ git+https://github.com/scverse/spatialdata.git@main\n",
      "  Cloning https://github.com/scverse/spatialdata.git (to revision main) to /private/var/folders/5x/ypt5v1fx6rs06gz37q_85t900000gp/T/pip-install-7hx5nua4/spatialdata_93f440e773194a19a27b50c49668cbc7\n",
      "  Running command git clone --filter=blob:none --quiet https://github.com/scverse/spatialdata.git /private/var/folders/5x/ypt5v1fx6rs06gz37q_85t900000gp/T/pip-install-7hx5nua4/spatialdata_93f440e773194a19a27b50c49668cbc7\n",
      "  Resolved https://github.com/scverse/spatialdata.git to commit 30897ce960ac9dd80395d44101601e7b005c85c4\n",
      "  Running command git submodule update --init --recursive -q\n",
      "  Installing build dependencies ... \u001b[?25ldone\n",
      "\u001b[?25h  Getting requirements to build wheel ... \u001b[?25ldone\n",
      "\u001b[?25h  Preparing metadata (pyproject.toml) ... \u001b[?25ldone\n",
      "\u001b[?25hRequirement already satisfied: h5py in /Users/b450-admin/opt/miniconda3/envs/napari-env/lib/python3.9/site-packages (from spatialdata-io==0.0.1) (3.8.0)\n",
      "Requirement already satisfied: imagecodecs in /Users/b450-admin/opt/miniconda3/envs/napari-env/lib/python3.9/site-packages (from spatialdata-io==0.0.1) (2023.1.23)\n",
      "Requirement already satisfied: joblib in /Users/b450-admin/opt/miniconda3/envs/napari-env/lib/python3.9/site-packages (from spatialdata-io==0.0.1) (1.2.0)\n",
      "Requirement already satisfied: scikit-image in /Users/b450-admin/opt/miniconda3/envs/napari-env/lib/python3.9/site-packages (from spatialdata-io==0.0.1) (0.19.3)\n",
      "Requirement already satisfied: dask-image in /Users/b450-admin/opt/miniconda3/envs/napari-env/lib/python3.9/site-packages (from spatialdata-io==0.0.1) (2022.9.0)\n",
      "Requirement already satisfied: numpy>=1.11.3 in /Users/b450-admin/opt/miniconda3/envs/napari-env/lib/python3.9/site-packages (from dask-image->spatialdata-io==0.0.1) (1.23.5)\n",
      "Requirement already satisfied: pims>=0.4.1 in /Users/b450-admin/opt/miniconda3/envs/napari-env/lib/python3.9/site-packages (from dask-image->spatialdata-io==0.0.1) (0.6.1)\n",
      "Requirement already satisfied: scipy>=0.19.1 in /Users/b450-admin/opt/miniconda3/envs/napari-env/lib/python3.9/site-packages (from dask-image->spatialdata-io==0.0.1) (1.10.1)\n",
      "Requirement already satisfied: dask[array]>=0.16.1 in /Users/b450-admin/opt/miniconda3/envs/napari-env/lib/python3.9/site-packages (from dask-image->spatialdata-io==0.0.1) (2023.2.0)\n",
      "Requirement already satisfied: packaging>=20.0 in /Users/b450-admin/opt/miniconda3/envs/napari-env/lib/python3.9/site-packages (from scikit-image->spatialdata-io==0.0.1) (23.0)\n",
      "Requirement already satisfied: PyWavelets>=1.1.1 in /Users/b450-admin/opt/miniconda3/envs/napari-env/lib/python3.9/site-packages (from scikit-image->spatialdata-io==0.0.1) (1.4.1)\n",
      "Requirement already satisfied: imageio>=2.4.1 in /Users/b450-admin/opt/miniconda3/envs/napari-env/lib/python3.9/site-packages (from scikit-image->spatialdata-io==0.0.1) (2.25.1)\n",
      "Requirement already satisfied: pillow!=7.1.0,!=7.1.1,!=8.3.0,>=6.1.0 in /Users/b450-admin/opt/miniconda3/envs/napari-env/lib/python3.9/site-packages (from scikit-image->spatialdata-io==0.0.1) (9.4.0)\n",
      "Requirement already satisfied: tifffile>=2019.7.26 in /Users/b450-admin/opt/miniconda3/envs/napari-env/lib/python3.9/site-packages (from scikit-image->spatialdata-io==0.0.1) (2023.2.3)\n",
      "Requirement already satisfied: networkx>=2.2 in /Users/b450-admin/opt/miniconda3/envs/napari-env/lib/python3.9/site-packages (from scikit-image->spatialdata-io==0.0.1) (3.0)\n",
      "Collecting ome-zarr@ git+https://github.com/LucaMarconato/ome-zarr-py@bug_fix_io\n",
      "  Cloning https://github.com/LucaMarconato/ome-zarr-py (to revision bug_fix_io) to /private/var/folders/5x/ypt5v1fx6rs06gz37q_85t900000gp/T/pip-install-7hx5nua4/ome-zarr_61f9ca5fa6554a6bb56b88be9fd549e5\n",
      "  Running command git clone --filter=blob:none --quiet https://github.com/LucaMarconato/ome-zarr-py /private/var/folders/5x/ypt5v1fx6rs06gz37q_85t900000gp/T/pip-install-7hx5nua4/ome-zarr_61f9ca5fa6554a6bb56b88be9fd549e5\n",
      "  Running command git checkout -b bug_fix_io --track origin/bug_fix_io\n",
      "  Switched to a new branch 'bug_fix_io'\n",
      "  branch 'bug_fix_io' set up to track 'origin/bug_fix_io'.\n",
      "  Resolved https://github.com/LucaMarconato/ome-zarr-py to commit d7ab47f1b50932bc9413b4a9082d2637603525c4\n",
      "  Preparing metadata (setup.py) ... \u001b[?25ldone\n",
      "\u001b[?25hRequirement already satisfied: pygeos in /Users/b450-admin/opt/miniconda3/envs/napari-env/lib/python3.9/site-packages (from spatialdata@ git+https://github.com/scverse/spatialdata.git@main->spatialdata-io==0.0.1) (0.14)\n",
      "Requirement already satisfied: anndata in /Users/b450-admin/opt/miniconda3/envs/napari-env/lib/python3.9/site-packages (from spatialdata@ git+https://github.com/scverse/spatialdata.git@main->spatialdata-io==0.0.1) (0.8.0)\n",
      "Requirement already satisfied: rich in /Users/b450-admin/opt/miniconda3/envs/napari-env/lib/python3.9/site-packages (from spatialdata@ git+https://github.com/scverse/spatialdata.git@main->spatialdata-io==0.0.1) (13.3.1)\n",
      "Requirement already satisfied: spatial-image in /Users/b450-admin/opt/miniconda3/envs/napari-env/lib/python3.9/site-packages (from spatialdata@ git+https://github.com/scverse/spatialdata.git@main->spatialdata-io==0.0.1) (0.3.0)\n",
      "Requirement already satisfied: typing-extensions>=4.0.0 in /Users/b450-admin/opt/miniconda3/envs/napari-env/lib/python3.9/site-packages (from spatialdata@ git+https://github.com/scverse/spatialdata.git@main->spatialdata-io==0.0.1) (4.5.0)\n",
      "Requirement already satisfied: pyarrow in /Users/b450-admin/opt/miniconda3/envs/napari-env/lib/python3.9/site-packages (from spatialdata@ git+https://github.com/scverse/spatialdata.git@main->spatialdata-io==0.0.1) (11.0.0)\n",
      "Requirement already satisfied: xarray-schema in /Users/b450-admin/opt/miniconda3/envs/napari-env/lib/python3.9/site-packages (from spatialdata@ git+https://github.com/scverse/spatialdata.git@main->spatialdata-io==0.0.1) (0.0.3)\n",
      "Requirement already satisfied: shapely==2.0rc2 in /Users/b450-admin/opt/miniconda3/envs/napari-env/lib/python3.9/site-packages (from spatialdata@ git+https://github.com/scverse/spatialdata.git@main->spatialdata-io==0.0.1) (2.0rc2)\n",
      "Requirement already satisfied: zarr in /Users/b450-admin/opt/miniconda3/envs/napari-env/lib/python3.9/site-packages (from spatialdata@ git+https://github.com/scverse/spatialdata.git@main->spatialdata-io==0.0.1) (2.14.1)\n",
      "Requirement already satisfied: xarray in /Users/b450-admin/opt/miniconda3/envs/napari-env/lib/python3.9/site-packages (from spatialdata@ git+https://github.com/scverse/spatialdata.git@main->spatialdata-io==0.0.1) (2022.12.0)\n",
      "Requirement already satisfied: tqdm in /Users/b450-admin/opt/miniconda3/envs/napari-env/lib/python3.9/site-packages (from spatialdata@ git+https://github.com/scverse/spatialdata.git@main->spatialdata-io==0.0.1) (4.64.1)\n",
      "Requirement already satisfied: geopandas in /Users/b450-admin/opt/miniconda3/envs/napari-env/lib/python3.9/site-packages (from spatialdata@ git+https://github.com/scverse/spatialdata.git@main->spatialdata-io==0.0.1) (0.12.2)\n",
      "Requirement already satisfied: multiscale-spatial-image in /Users/b450-admin/opt/miniconda3/envs/napari-env/lib/python3.9/site-packages (from spatialdata@ git+https://github.com/scverse/spatialdata.git@main->spatialdata-io==0.0.1) (0.11.2)\n",
      "Requirement already satisfied: partd>=0.3.10 in /Users/b450-admin/opt/miniconda3/envs/napari-env/lib/python3.9/site-packages (from dask[array]>=0.16.1->dask-image->spatialdata-io==0.0.1) (1.3.0)\n",
      "Requirement already satisfied: toolz>=0.8.2 in /Users/b450-admin/opt/miniconda3/envs/napari-env/lib/python3.9/site-packages (from dask[array]>=0.16.1->dask-image->spatialdata-io==0.0.1) (0.12.0)\n",
      "Requirement already satisfied: fsspec>=0.6.0 in /Users/b450-admin/opt/miniconda3/envs/napari-env/lib/python3.9/site-packages (from dask[array]>=0.16.1->dask-image->spatialdata-io==0.0.1) (2023.1.0)\n",
      "Requirement already satisfied: pyyaml>=5.3.1 in /Users/b450-admin/opt/miniconda3/envs/napari-env/lib/python3.9/site-packages (from dask[array]>=0.16.1->dask-image->spatialdata-io==0.0.1) (6.0)\n",
      "Requirement already satisfied: cloudpickle>=1.1.1 in /Users/b450-admin/opt/miniconda3/envs/napari-env/lib/python3.9/site-packages (from dask[array]>=0.16.1->dask-image->spatialdata-io==0.0.1) (2.2.1)\n",
      "Requirement already satisfied: click>=7.0 in /Users/b450-admin/opt/miniconda3/envs/napari-env/lib/python3.9/site-packages (from dask[array]>=0.16.1->dask-image->spatialdata-io==0.0.1) (8.1.3)\n",
      "Requirement already satisfied: slicerator>=0.9.8 in /Users/b450-admin/opt/miniconda3/envs/napari-env/lib/python3.9/site-packages (from pims>=0.4.1->dask-image->spatialdata-io==0.0.1) (1.1.0)\n",
      "Requirement already satisfied: pandas>=1.1.1 in /Users/b450-admin/opt/miniconda3/envs/napari-env/lib/python3.9/site-packages (from anndata->spatialdata@ git+https://github.com/scverse/spatialdata.git@main->spatialdata-io==0.0.1) (1.5.3)\n",
      "Requirement already satisfied: natsort in /Users/b450-admin/opt/miniconda3/envs/napari-env/lib/python3.9/site-packages (from anndata->spatialdata@ git+https://github.com/scverse/spatialdata.git@main->spatialdata-io==0.0.1) (8.2.0)\n",
      "Requirement already satisfied: fiona>=1.8 in /Users/b450-admin/opt/miniconda3/envs/napari-env/lib/python3.9/site-packages (from geopandas->spatialdata@ git+https://github.com/scverse/spatialdata.git@main->spatialdata-io==0.0.1) (1.9.1)\n",
      "Requirement already satisfied: pyproj>=2.6.1.post1 in /Users/b450-admin/opt/miniconda3/envs/napari-env/lib/python3.9/site-packages (from geopandas->spatialdata@ git+https://github.com/scverse/spatialdata.git@main->spatialdata-io==0.0.1) (3.4.1)\n",
      "Requirement already satisfied: xarray-datatree>=0.0.5 in /Users/b450-admin/opt/miniconda3/envs/napari-env/lib/python3.9/site-packages (from multiscale-spatial-image->spatialdata@ git+https://github.com/scverse/spatialdata.git@main->spatialdata-io==0.0.1) (0.0.11)\n",
      "Requirement already satisfied: xarray-dataclasses>=1.1.0 in /Users/b450-admin/opt/miniconda3/envs/napari-env/lib/python3.9/site-packages (from spatial-image->spatialdata@ git+https://github.com/scverse/spatialdata.git@main->spatialdata-io==0.0.1) (1.5.0)\n",
      "Requirement already satisfied: aiohttp<4 in /Users/b450-admin/opt/miniconda3/envs/napari-env/lib/python3.9/site-packages (from ome-zarr@ git+https://github.com/LucaMarconato/ome-zarr-py@bug_fix_io->spatialdata@ git+https://github.com/scverse/spatialdata.git@main->spatialdata-io==0.0.1) (3.8.4)\n",
      "Requirement already satisfied: requests in /Users/b450-admin/opt/miniconda3/envs/napari-env/lib/python3.9/site-packages (from ome-zarr@ git+https://github.com/LucaMarconato/ome-zarr-py@bug_fix_io->spatialdata@ git+https://github.com/scverse/spatialdata.git@main->spatialdata-io==0.0.1) (2.28.2)\n",
      "Requirement already satisfied: fasteners in /Users/b450-admin/opt/miniconda3/envs/napari-env/lib/python3.9/site-packages (from zarr->spatialdata@ git+https://github.com/scverse/spatialdata.git@main->spatialdata-io==0.0.1) (0.18)\n",
      "Requirement already satisfied: numcodecs>=0.10.0 in /Users/b450-admin/opt/miniconda3/envs/napari-env/lib/python3.9/site-packages (from zarr->spatialdata@ git+https://github.com/scverse/spatialdata.git@main->spatialdata-io==0.0.1) (0.11.0)\n",
      "Requirement already satisfied: asciitree in /Users/b450-admin/opt/miniconda3/envs/napari-env/lib/python3.9/site-packages (from zarr->spatialdata@ git+https://github.com/scverse/spatialdata.git@main->spatialdata-io==0.0.1) (0.3.3)\n",
      "Requirement already satisfied: pygments<3.0.0,>=2.14.0 in /Users/b450-admin/opt/miniconda3/envs/napari-env/lib/python3.9/site-packages (from rich->spatialdata@ git+https://github.com/scverse/spatialdata.git@main->spatialdata-io==0.0.1) (2.14.0)\n",
      "Requirement already satisfied: markdown-it-py<3.0.0,>=2.1.0 in /Users/b450-admin/opt/miniconda3/envs/napari-env/lib/python3.9/site-packages (from rich->spatialdata@ git+https://github.com/scverse/spatialdata.git@main->spatialdata-io==0.0.1) (2.2.0)\n",
      "Requirement already satisfied: multidict<7.0,>=4.5 in /Users/b450-admin/opt/miniconda3/envs/napari-env/lib/python3.9/site-packages (from aiohttp<4->ome-zarr@ git+https://github.com/LucaMarconato/ome-zarr-py@bug_fix_io->spatialdata@ git+https://github.com/scverse/spatialdata.git@main->spatialdata-io==0.0.1) (6.0.4)\n",
      "Requirement already satisfied: yarl<2.0,>=1.0 in /Users/b450-admin/opt/miniconda3/envs/napari-env/lib/python3.9/site-packages (from aiohttp<4->ome-zarr@ git+https://github.com/LucaMarconato/ome-zarr-py@bug_fix_io->spatialdata@ git+https://github.com/scverse/spatialdata.git@main->spatialdata-io==0.0.1) (1.8.2)\n",
      "Requirement already satisfied: charset-normalizer<4.0,>=2.0 in /Users/b450-admin/opt/miniconda3/envs/napari-env/lib/python3.9/site-packages (from aiohttp<4->ome-zarr@ git+https://github.com/LucaMarconato/ome-zarr-py@bug_fix_io->spatialdata@ git+https://github.com/scverse/spatialdata.git@main->spatialdata-io==0.0.1) (3.0.1)\n",
      "Requirement already satisfied: async-timeout<5.0,>=4.0.0a3 in /Users/b450-admin/opt/miniconda3/envs/napari-env/lib/python3.9/site-packages (from aiohttp<4->ome-zarr@ git+https://github.com/LucaMarconato/ome-zarr-py@bug_fix_io->spatialdata@ git+https://github.com/scverse/spatialdata.git@main->spatialdata-io==0.0.1) (4.0.2)\n",
      "Requirement already satisfied: frozenlist>=1.1.1 in /Users/b450-admin/opt/miniconda3/envs/napari-env/lib/python3.9/site-packages (from aiohttp<4->ome-zarr@ git+https://github.com/LucaMarconato/ome-zarr-py@bug_fix_io->spatialdata@ git+https://github.com/scverse/spatialdata.git@main->spatialdata-io==0.0.1) (1.3.3)\n",
      "Requirement already satisfied: attrs>=17.3.0 in /Users/b450-admin/opt/miniconda3/envs/napari-env/lib/python3.9/site-packages (from aiohttp<4->ome-zarr@ git+https://github.com/LucaMarconato/ome-zarr-py@bug_fix_io->spatialdata@ git+https://github.com/scverse/spatialdata.git@main->spatialdata-io==0.0.1) (22.2.0)\n",
      "Requirement already satisfied: aiosignal>=1.1.2 in /Users/b450-admin/opt/miniconda3/envs/napari-env/lib/python3.9/site-packages (from aiohttp<4->ome-zarr@ git+https://github.com/LucaMarconato/ome-zarr-py@bug_fix_io->spatialdata@ git+https://github.com/scverse/spatialdata.git@main->spatialdata-io==0.0.1) (1.3.1)\n",
      "Requirement already satisfied: setuptools in /Users/b450-admin/opt/miniconda3/envs/napari-env/lib/python3.9/site-packages (from fiona>=1.8->geopandas->spatialdata@ git+https://github.com/scverse/spatialdata.git@main->spatialdata-io==0.0.1) (67.3.3)\n",
      "Requirement already satisfied: certifi in /Users/b450-admin/opt/miniconda3/envs/napari-env/lib/python3.9/site-packages (from fiona>=1.8->geopandas->spatialdata@ git+https://github.com/scverse/spatialdata.git@main->spatialdata-io==0.0.1) (2022.12.7)\n",
      "Requirement already satisfied: munch>=2.3.2 in /Users/b450-admin/opt/miniconda3/envs/napari-env/lib/python3.9/site-packages (from fiona>=1.8->geopandas->spatialdata@ git+https://github.com/scverse/spatialdata.git@main->spatialdata-io==0.0.1) (2.5.0)\n",
      "Requirement already satisfied: click-plugins>=1.0 in /Users/b450-admin/opt/miniconda3/envs/napari-env/lib/python3.9/site-packages (from fiona>=1.8->geopandas->spatialdata@ git+https://github.com/scverse/spatialdata.git@main->spatialdata-io==0.0.1) (1.1.1)\n",
      "Requirement already satisfied: cligj>=0.5 in /Users/b450-admin/opt/miniconda3/envs/napari-env/lib/python3.9/site-packages (from fiona>=1.8->geopandas->spatialdata@ git+https://github.com/scverse/spatialdata.git@main->spatialdata-io==0.0.1) (0.7.2)\n",
      "Requirement already satisfied: s3fs in /Users/b450-admin/opt/miniconda3/envs/napari-env/lib/python3.9/site-packages (from fsspec>=0.6.0->dask[array]>=0.16.1->dask-image->spatialdata-io==0.0.1) (2023.1.0)\n",
      "Requirement already satisfied: mdurl~=0.1 in /Users/b450-admin/opt/miniconda3/envs/napari-env/lib/python3.9/site-packages (from markdown-it-py<3.0.0,>=2.1.0->rich->spatialdata@ git+https://github.com/scverse/spatialdata.git@main->spatialdata-io==0.0.1) (0.1.2)\n",
      "Requirement already satisfied: entrypoints in /Users/b450-admin/opt/miniconda3/envs/napari-env/lib/python3.9/site-packages (from numcodecs>=0.10.0->zarr->spatialdata@ git+https://github.com/scverse/spatialdata.git@main->spatialdata-io==0.0.1) (0.4)\n",
      "Requirement already satisfied: pytz>=2020.1 in /Users/b450-admin/opt/miniconda3/envs/napari-env/lib/python3.9/site-packages (from pandas>=1.1.1->anndata->spatialdata@ git+https://github.com/scverse/spatialdata.git@main->spatialdata-io==0.0.1) (2022.7.1)\n",
      "Requirement already satisfied: python-dateutil>=2.8.1 in /Users/b450-admin/opt/miniconda3/envs/napari-env/lib/python3.9/site-packages (from pandas>=1.1.1->anndata->spatialdata@ git+https://github.com/scverse/spatialdata.git@main->spatialdata-io==0.0.1) (2.8.2)\n",
      "Requirement already satisfied: locket in /Users/b450-admin/opt/miniconda3/envs/napari-env/lib/python3.9/site-packages (from partd>=0.3.10->dask[array]>=0.16.1->dask-image->spatialdata-io==0.0.1) (1.0.0)\n",
      "Requirement already satisfied: urllib3<1.27,>=1.21.1 in /Users/b450-admin/opt/miniconda3/envs/napari-env/lib/python3.9/site-packages (from requests->ome-zarr@ git+https://github.com/LucaMarconato/ome-zarr-py@bug_fix_io->spatialdata@ git+https://github.com/scverse/spatialdata.git@main->spatialdata-io==0.0.1) (1.26.14)\n",
      "Requirement already satisfied: idna<4,>=2.5 in /Users/b450-admin/opt/miniconda3/envs/napari-env/lib/python3.9/site-packages (from requests->ome-zarr@ git+https://github.com/LucaMarconato/ome-zarr-py@bug_fix_io->spatialdata@ git+https://github.com/scverse/spatialdata.git@main->spatialdata-io==0.0.1) (3.4)\n",
      "Requirement already satisfied: six in /Users/b450-admin/opt/miniconda3/envs/napari-env/lib/python3.9/site-packages (from munch>=2.3.2->fiona>=1.8->geopandas->spatialdata@ git+https://github.com/scverse/spatialdata.git@main->spatialdata-io==0.0.1) (1.16.0)\n",
      "Requirement already satisfied: aiobotocore~=2.4.2 in /Users/b450-admin/opt/miniconda3/envs/napari-env/lib/python3.9/site-packages (from s3fs->fsspec>=0.6.0->dask[array]>=0.16.1->dask-image->spatialdata-io==0.0.1) (2.4.2)\n",
      "Requirement already satisfied: aioitertools>=0.5.1 in /Users/b450-admin/opt/miniconda3/envs/napari-env/lib/python3.9/site-packages (from aiobotocore~=2.4.2->s3fs->fsspec>=0.6.0->dask[array]>=0.16.1->dask-image->spatialdata-io==0.0.1) (0.11.0)\n",
      "Requirement already satisfied: wrapt>=1.10.10 in /Users/b450-admin/opt/miniconda3/envs/napari-env/lib/python3.9/site-packages (from aiobotocore~=2.4.2->s3fs->fsspec>=0.6.0->dask[array]>=0.16.1->dask-image->spatialdata-io==0.0.1) (1.14.1)\n",
      "Requirement already satisfied: botocore<1.27.60,>=1.27.59 in /Users/b450-admin/opt/miniconda3/envs/napari-env/lib/python3.9/site-packages (from aiobotocore~=2.4.2->s3fs->fsspec>=0.6.0->dask[array]>=0.16.1->dask-image->spatialdata-io==0.0.1) (1.27.59)\n",
      "Requirement already satisfied: jmespath<2.0.0,>=0.7.1 in /Users/b450-admin/opt/miniconda3/envs/napari-env/lib/python3.9/site-packages (from botocore<1.27.60,>=1.27.59->aiobotocore~=2.4.2->s3fs->fsspec>=0.6.0->dask[array]>=0.16.1->dask-image->spatialdata-io==0.0.1) (1.0.1)\n",
      "Building wheels for collected packages: spatialdata-io, spatialdata\n",
      "  Building editable for spatialdata-io (pyproject.toml) ... \u001b[?25ldone\n",
      "\u001b[?25h  Created wheel for spatialdata-io: filename=spatialdata_io-0.0.1-py3-none-any.whl size=3799 sha256=ab4806cee70d94b3a81f627d9d1331c0bdeb7d1cbddbc607a02a7d258733f543\n",
      "  Stored in directory: /private/var/folders/5x/ypt5v1fx6rs06gz37q_85t900000gp/T/pip-ephem-wheel-cache-av0klfe6/wheels/c4/61/c1/e52b172b46649373ca7cc49f29b921bb6c3ddec244f4b83c5f\n",
      "  Building wheel for spatialdata (pyproject.toml) ... \u001b[?25ldone\n",
      "\u001b[?25h  Created wheel for spatialdata: filename=spatialdata-0.0.1.dev0-py3-none-any.whl size=58554 sha256=00b23aed500e08f4bf4ea40930e44be916b24ece7070d7f7be5171354cafad3c\n",
      "  Stored in directory: /private/var/folders/5x/ypt5v1fx6rs06gz37q_85t900000gp/T/pip-ephem-wheel-cache-av0klfe6/wheels/43/a4/a7/d1d3771a93b29b071dc14d4e6d51bd9b39e781e6b6a140a875\n",
      "Successfully built spatialdata-io spatialdata\n",
      "Installing collected packages: spatialdata, spatialdata-io\n",
      "  Attempting uninstall: spatialdata\n",
      "    Found existing installation: spatialdata 0.0.1.dev0\n",
      "    Uninstalling spatialdata-0.0.1.dev0:\n",
      "      Successfully uninstalled spatialdata-0.0.1.dev0\n",
      "  Attempting uninstall: spatialdata-io\n",
      "    Found existing installation: spatialdata-io 0.0.1\n",
      "    Uninstalling spatialdata-io-0.0.1:\n",
      "      Successfully uninstalled spatialdata-io-0.0.1\n",
      "Successfully installed spatialdata-0.0.1.dev0 spatialdata-io-0.0.1\n"
     ]
    }
   ],
   "source": [
    "!pip install -e ../../napari-spati"
   ]
  }
 ],
 "metadata": {
  "kernelspec": {
   "display_name": "napari-env",
   "language": "python",
   "name": "napari-env"
  },
  "language_info": {
   "codemirror_mode": {
    "name": "ipython",
    "version": 3
   },
   "file_extension": ".py",
   "mimetype": "text/x-python",
   "name": "python",
   "nbconvert_exporter": "python",
   "pygments_lexer": "ipython3",
   "version": "3.9.12"
  }
 },
 "nbformat": 4,
 "nbformat_minor": 5
}
