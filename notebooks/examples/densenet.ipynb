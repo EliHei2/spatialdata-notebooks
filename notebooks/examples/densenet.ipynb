{
 "cells": [
  {
   "cell_type": "markdown",
   "id": "f520cf14",
   "metadata": {},
   "source": [
    "# Deep learning example on image tiles"
   ]
  },
  {
   "cell_type": "markdown",
   "id": "d804ca4e-cde9-40aa-8d9d-a2c4ef31ca9f",
   "metadata": {},
   "source": [
    "We will show, as an example, how to train a Dense Net which predicts cell types Xenium data from an associated H&E image.\n",
    "\n",
    "In particular this example shows that:\n",
    "- We can easily access and combine images and annotations across different technologies. For the sake of the example here we use the H&E image from Visium data, and the cell type information from overlapping Xenium data. Remarkably, the two modalities are spatially aligned via an affine transformation.\n",
    "- We generate image tiles with full control of the spatial extent and the pixel resolution.\n",
    "- We interface with popular frameworks for deep learning: Monai and PyTorch Lightning."
   ]
  },
  {
   "cell_type": "code",
   "execution_count": 16,
   "id": "9a2330c4",
   "metadata": {
    "ExecuteTime": {
     "end_time": "2023-04-10T16:09:12.172308Z",
     "start_time": "2023-04-10T16:09:05.375252Z"
    },
    "collapsed": false,
    "jupyter": {
     "outputs_hidden": false
    }
   },
   "outputs": [],
   "source": [
    "import os\n",
    "from typing import Dict\n",
    "\n",
    "import numpy as np\n",
    "import pytorch_lightning as pl\n",
    "import scanpy as sc\n",
    "from spatialdata import SpatialData, read_zarr\n",
    "import torch\n",
    "import torch.nn.functional as F\n",
    "import torchvision\n",
    "import pandas as pd\n",
    "from anndata import AnnData\n",
    "from monai.networks.nets import DenseNet121\n",
    "from napari_spatialdata import Interactive\n",
    "from pytorch_lightning import LightningDataModule\n",
    "from pytorch_lightning.callbacks import LearningRateMonitor\n",
    "from pytorch_lightning.callbacks.progress import TQDMProgressBar\n",
    "from pytorch_lightning.loggers import CSVLogger\n",
    "from spatial_image import SpatialImage\n",
    "from spatialdata import SpatialData, transform\n",
    "from spatialdata.dataloader.datasets import ImageTilesDataset\n",
    "from spatialdata.transformations import get_transformation\n",
    "from torch.nn import CrossEntropyLoss\n",
    "from torch.optim import Adam\n",
    "from torch.utils.data import DataLoader\n",
    "from tqdm import tqdm\n",
    "import torch.multiprocessing as mp\n",
    "\n",
    "mp.set_start_method(\"spawn\", force=True)"
   ]
  },
  {
   "cell_type": "markdown",
   "id": "88cad743",
   "metadata": {},
   "source": [
    "## Preparing the data"
   ]
  },
  {
   "cell_type": "markdown",
   "id": "35162c06-606c-40a6-ae86-bcc481a75083",
   "metadata": {},
   "source": [
    "### Getting the Zarr files"
   ]
  },
  {
   "cell_type": "markdown",
   "id": "01df1f51-29db-4955-8189-42648e5cd95e",
   "metadata": {},
   "source": [
    "We will need two Zarr files, one for Xenium data and one for Visium data. You can obtain these files by running [this notebook](https://github.com/scverse/spatialdata-notebooks/blob/main/notebooks/paper_reproducibility/xenium_and_visium.ipynb).\n",
    "\n",
    "Alternatively, you can download a zipped version of the data from here: [Xenium data](https://s3.embl.de/spatialdata/spatialdata-sandbox/xenium_rep1_io.zip), [Visium data](https://s3.embl.de/spatialdata/spatialdata-sandbox/visium_associated_xenium_io.zip). \n",
    "\n",
    "If you download the data, please make it discoverable in the paths specified next (you can use symlink to achieve this)."
   ]
  },
  {
   "cell_type": "code",
   "execution_count": 2,
   "id": "3bfd5433",
   "metadata": {
    "ExecuteTime": {
     "end_time": "2023-04-10T16:12:05.313258Z",
     "start_time": "2023-04-10T16:12:01.982115Z"
    },
    "collapsed": false,
    "jupyter": {
     "outputs_hidden": false
    }
   },
   "outputs": [
    {
     "name": "stdout",
     "output_type": "stream",
     "text": [
      "current working directory: /Users/macbook/embl/projects/basel/spatialdata-notebooks/notebooks/examples\n",
      "2023-04-14 21:02:37,041 - root_attr: multiscales\n",
      "2023-04-14 21:02:37,042 - datasets [{'coordinateTransformations': [{'scale': [1.0, 1.0, 1.0], 'type': 'scale'}], 'path': '0'}, {'coordinateTransformations': [{'scale': [1.0, 2.0, 2.0], 'type': 'scale'}], 'path': '1'}, {'coordinateTransformations': [{'scale': [1.0, 4.000310366232154, 4.0], 'type': 'scale'}], 'path': '2'}, {'coordinateTransformations': [{'scale': [1.0, 8.000620732464307, 8.0], 'type': 'scale'}], 'path': '3'}, {'coordinateTransformations': [{'scale': [1.0, 16.001241464928615, 16.003615002259377], 'type': 'scale'}], 'path': '4'}]\n",
      "2023-04-14 21:02:37,043 - resolution: 0\n",
      "2023-04-14 21:02:37,043 -  - shape ('c', 'y', 'x') = (1, 25778, 35416)\n",
      "2023-04-14 21:02:37,044 -  - chunks =  ['1', '4096 (+ 1202)', '4096 (+ 2648)']\n",
      "2023-04-14 21:02:37,044 -  - dtype = uint16\n",
      "2023-04-14 21:02:37,046 - resolution: 1\n",
      "2023-04-14 21:02:37,047 -  - shape ('c', 'y', 'x') = (1, 12889, 17708)\n",
      "2023-04-14 21:02:37,047 -  - chunks =  ['1', '4096 (+ 601)', '4096 (+ 1324)']\n",
      "2023-04-14 21:02:37,047 -  - dtype = uint16\n",
      "2023-04-14 21:02:37,049 - resolution: 2\n",
      "2023-04-14 21:02:37,049 -  - shape ('c', 'y', 'x') = (1, 6444, 8854)\n",
      "2023-04-14 21:02:37,049 -  - chunks =  ['1', '4096 (+ 2348)', '4096 (+ 662)']\n",
      "2023-04-14 21:02:37,049 -  - dtype = uint16\n",
      "2023-04-14 21:02:37,050 - resolution: 3\n",
      "2023-04-14 21:02:37,051 -  - shape ('c', 'y', 'x') = (1, 3222, 4427)\n",
      "2023-04-14 21:02:37,051 -  - chunks =  ['1', '3222', '4096 (+ 331)']\n",
      "2023-04-14 21:02:37,051 -  - dtype = uint16\n",
      "2023-04-14 21:02:37,052 - resolution: 4\n",
      "2023-04-14 21:02:37,053 -  - shape ('c', 'y', 'x') = (1, 1611, 2213)\n",
      "2023-04-14 21:02:37,053 -  - chunks =  ['1', '1611', '2213']\n",
      "2023-04-14 21:02:37,053 -  - dtype = uint16\n",
      "2023-04-14 21:02:37,066 - root_attr: multiscales\n",
      "2023-04-14 21:02:37,067 - datasets [{'coordinateTransformations': [{'scale': [1.0, 1.0, 1.0], 'type': 'scale'}], 'path': '0'}, {'coordinateTransformations': [{'scale': [1.0, 2.0, 2.0], 'type': 'scale'}], 'path': '1'}, {'coordinateTransformations': [{'scale': [1.0, 4.000310366232154, 4.0], 'type': 'scale'}], 'path': '2'}, {'coordinateTransformations': [{'scale': [1.0, 8.000620732464307, 8.0], 'type': 'scale'}], 'path': '3'}, {'coordinateTransformations': [{'scale': [1.0, 16.001241464928615, 16.003615002259377], 'type': 'scale'}], 'path': '4'}]\n",
      "2023-04-14 21:02:37,068 - resolution: 0\n",
      "2023-04-14 21:02:37,068 -  - shape ('c', 'y', 'x') = (1, 25778, 35416)\n",
      "2023-04-14 21:02:37,069 -  - chunks =  ['1', '4096 (+ 1202)', '4096 (+ 2648)']\n",
      "2023-04-14 21:02:37,069 -  - dtype = uint16\n",
      "2023-04-14 21:02:37,070 - resolution: 1\n",
      "2023-04-14 21:02:37,070 -  - shape ('c', 'y', 'x') = (1, 12889, 17708)\n",
      "2023-04-14 21:02:37,070 -  - chunks =  ['1', '4096 (+ 601)', '4096 (+ 1324)']\n",
      "2023-04-14 21:02:37,071 -  - dtype = uint16\n",
      "2023-04-14 21:02:37,072 - resolution: 2\n",
      "2023-04-14 21:02:37,072 -  - shape ('c', 'y', 'x') = (1, 6444, 8854)\n",
      "2023-04-14 21:02:37,073 -  - chunks =  ['1', '4096 (+ 2348)', '4096 (+ 662)']\n",
      "2023-04-14 21:02:37,073 -  - dtype = uint16\n",
      "2023-04-14 21:02:37,075 - resolution: 3\n",
      "2023-04-14 21:02:37,075 -  - shape ('c', 'y', 'x') = (1, 3222, 4427)\n",
      "2023-04-14 21:02:37,075 -  - chunks =  ['1', '3222', '4096 (+ 331)']\n",
      "2023-04-14 21:02:37,076 -  - dtype = uint16\n",
      "2023-04-14 21:02:37,077 - resolution: 4\n",
      "2023-04-14 21:02:37,078 -  - shape ('c', 'y', 'x') = (1, 1611, 2213)\n",
      "2023-04-14 21:02:37,078 -  - chunks =  ['1', '1611', '2213']\n",
      "2023-04-14 21:02:37,078 -  - dtype = uint16\n",
      "\u001b[34mINFO    \u001b[0m Instance key `cell_id` could be of type `pd.Categorical`. Consider casting it.                            \n",
      "2023-04-14 21:02:38,809 - root_attr: multiscales\n",
      "2023-04-14 21:02:38,809 - datasets [{'coordinateTransformations': [{'scale': [1.0, 1.0, 1.0], 'type': 'scale'}], 'path': '0'}, {'coordinateTransformations': [{'scale': [1.0, 2.000092721372276, 2.0001025430680888], 'type': 'scale'}], 'path': '1'}, {'coordinateTransformations': [{'scale': [1.0, 4.000556379821958, 4.0002050861361775], 'type': 'scale'}], 'path': '2'}, {'coordinateTransformations': [{'scale': [1.0, 8.001112759643917, 8.000410172272355], 'type': 'scale'}], 'path': '3'}, {'coordinateTransformations': [{'scale': [1.0, 16.002225519287833, 16.00082034454471], 'type': 'scale'}], 'path': '4'}]\n",
      "2023-04-14 21:02:38,810 - resolution: 0\n",
      "2023-04-14 21:02:38,810 -  - shape ('c', 'y', 'x') = (3, 21571, 19505)\n",
      "2023-04-14 21:02:38,810 -  - chunks =  ['3', '256 (+ 67)', '256 (+ 49)']\n",
      "2023-04-14 21:02:38,811 -  - dtype = uint8\n",
      "2023-04-14 21:02:38,812 - resolution: 1\n",
      "2023-04-14 21:02:38,812 -  - shape ('c', 'y', 'x') = (3, 10785, 9752)\n",
      "2023-04-14 21:02:38,812 -  - chunks =  ['3', '256 (+ 33)', '256 (+ 24)']\n",
      "2023-04-14 21:02:38,812 -  - dtype = uint8\n",
      "2023-04-14 21:02:38,813 - resolution: 2\n",
      "2023-04-14 21:02:38,814 -  - shape ('c', 'y', 'x') = (3, 5392, 4876)\n",
      "2023-04-14 21:02:38,814 -  - chunks =  ['3', '256 (+ 16)', '256 (+ 12)']\n",
      "2023-04-14 21:02:38,814 -  - dtype = uint8\n",
      "2023-04-14 21:02:38,815 - resolution: 3\n",
      "2023-04-14 21:02:38,815 -  - shape ('c', 'y', 'x') = (3, 2696, 2438)\n",
      "2023-04-14 21:02:38,816 -  - chunks =  ['3', '256 (+ 136)', '256 (+ 134)']\n",
      "2023-04-14 21:02:38,816 -  - dtype = uint8\n",
      "2023-04-14 21:02:38,817 - resolution: 4\n",
      "2023-04-14 21:02:38,818 -  - shape ('c', 'y', 'x') = (3, 1348, 1219)\n",
      "2023-04-14 21:02:38,819 -  - chunks =  ['3', '256 (+ 68)', '256 (+ 195)']\n",
      "2023-04-14 21:02:38,819 -  - dtype = uint8\n",
      "2023-04-14 21:02:38,829 - root_attr: multiscales\n",
      "2023-04-14 21:02:38,829 - datasets [{'coordinateTransformations': [{'scale': [1.0, 1.0, 1.0], 'type': 'scale'}], 'path': '0'}]\n",
      "2023-04-14 21:02:38,830 - resolution: 0\n",
      "2023-04-14 21:02:38,831 -  - shape ('c', 'y', 'x') = (3, 2000, 1809)\n",
      "2023-04-14 21:02:38,831 -  - chunks =  ['3', '2000', '1809']\n",
      "2023-04-14 21:02:38,831 -  - dtype = uint8\n",
      "2023-04-14 21:02:38,836 - root_attr: multiscales\n",
      "2023-04-14 21:02:38,836 - datasets [{'coordinateTransformations': [{'scale': [1.0, 1.0, 1.0], 'type': 'scale'}], 'path': '0'}]\n",
      "2023-04-14 21:02:38,837 - resolution: 0\n",
      "2023-04-14 21:02:38,837 -  - shape ('c', 'y', 'x') = (3, 600, 543)\n",
      "2023-04-14 21:02:38,838 -  - chunks =  ['3', '600', '543']\n",
      "2023-04-14 21:02:38,838 -  - dtype = uint8\n"
     ]
    }
   ],
   "source": [
    "print(\"current working directory:\", os.getcwd())\n",
    "SPATIALDATA_SANDBOX_PATH = \"../../../spatialdata-sandbox\"\n",
    "assert os.path.isdir(SPATIALDATA_SANDBOX_PATH), f\"{SPATIALDATA_SANDBOX_PATH} not found, please use symlinks to make it available\"\n",
    "\n",
    "XENIUM_SDATA_PATH = os.path.join(SPATIALDATA_SANDBOX_PATH, \"xenium_rep1_io/data.zarr\")\n",
    "VISIUM_SDATA_PATH = os.path.join(SPATIALDATA_SANDBOX_PATH, \"visium_associated_xenium_io/data.zarr\")\n",
    "\n",
    "assert os.path.isdir(XENIUM_SDATA_PATH)\n",
    "assert os.path.isdir(VISIUM_SDATA_PATH)\n",
    "\n",
    "xenium_sdata = read_zarr(XENIUM_SDATA_PATH)\n",
    "visium_sdata = read_zarr(VISIUM_SDATA_PATH)\n",
    "\n",
    "assert 'celltype_major' in xenium_sdata.table.obs, \\\n",
    "    \"The Xenium data does not contain the cell types annotation; it seems that it refers to the Xenium\"\\\n",
    "    \"Zarr data that has not been processed with the analysis notebook we refer in the 'Getting the Zarr\"\\\n",
    "    \"files section'.\""
   ]
  },
  {
   "cell_type": "markdown",
   "id": "67a41fb9-6ff7-47f9-9758-1866d29414bb",
   "metadata": {},
   "source": [
    "Let's create a new `SpatialData` object with just the elements we are interest in. We will predict the Xenium cell types from the Visium image, so let's grab the cell circles and the table from the Xenium data, and the full resolution H&E image from Visium."
   ]
  },
  {
   "cell_type": "code",
   "execution_count": 3,
   "id": "26249ada-c8b6-4517-85e8-24a2c98ee88e",
   "metadata": {
    "tags": []
   },
   "outputs": [],
   "source": [
    "merged = SpatialData(\n",
    "    images={\n",
    "        \"CytAssist_FFPE_Human_Breast_Cancer_full_image\": visium_sdata.images[\n",
    "            \"CytAssist_FFPE_Human_Breast_Cancer_full_image\"\n",
    "        ],\n",
    "    },\n",
    "    shapes={\"cell_circles\": xenium_sdata.shapes[\"cell_circles\"]},\n",
    "    table=xenium_sdata.table,\n",
    ")"
   ]
  },
  {
   "cell_type": "markdown",
   "id": "bdbf0910-7ec2-4f0e-8b5a-8550a79cbf52",
   "metadata": {},
   "source": [
    "For the sake of reducing the computational requirements to run this example, let's spatially subset the data."
   ]
  },
  {
   "cell_type": "code",
   "execution_count": 4,
   "id": "e95f3e80-2d05-476b-a592-06fa4540daf8",
   "metadata": {
    "tags": []
   },
   "outputs": [],
   "source": [
    "min_coordinate = [12790, 12194]\n",
    "max_coordinate = [15100, 15221]\n",
    "merged = merged.query.bounding_box(\n",
    "    min_coordinate=min_coordinate,\n",
    "    max_coordinate=max_coordinate,\n",
    "    axes=[\"y\", \"x\"],\n",
    "    target_coordinate_system=\"aligned\",\n",
    ")"
   ]
  },
  {
   "cell_type": "raw",
   "id": "23d5fadd-6b95-4f60-a1b3-a9a6e52dafc3",
   "metadata": {
    "tags": []
   },
   "source": [
    "Interactive(merged)"
   ]
  },
  {
   "cell_type": "markdown",
   "id": "7327d496-ccff-4f7c-b8cb-5a3349b480e5",
   "metadata": {},
   "source": [
    "Here is a visualization of the image and cell type data. Notice how the Visium image is rotated with respect to the Xenium data."
   ]
  },
  {
   "cell_type": "markdown",
   "id": "58566471-3e2d-46a6-8966-af45650977c2",
   "metadata": {},
   "source": [
    "![image.png](attachments/dense_net_cell_types.png)"
   ]
  },
  {
   "cell_type": "markdown",
   "id": "a1cc2125-7c2a-48ff-ae3c-27c3c2224da9",
   "metadata": {},
   "source": [
    "Let's compute the mean Xenium cell diamater, we will use this to choose an appropriate image tile size."
   ]
  },
  {
   "cell_type": "code",
   "execution_count": 5,
   "id": "fd185945-bb1f-4563-88bf-7b0764b13a2e",
   "metadata": {
    "tags": []
   },
   "outputs": [],
   "source": [
    "circles = merged[\"cell_circles\"]\n",
    "t = get_transformation(circles, \"aligned\")\n",
    "\n",
    "transformed_circles = transform(circles, t)\n",
    "xenium_circles_diameter = 2 * np.mean(transformed_circles.radius)"
   ]
  },
  {
   "cell_type": "markdown",
   "id": "a1e5196a-7710-4e2b-a46f-163bd4d20d8e",
   "metadata": {},
   "source": [
    "Let's find the list of all the cell types we are dealing with."
   ]
  },
  {
   "cell_type": "code",
   "execution_count": 6,
   "id": "9d1931f5-a38c-44fc-953c-bdd173af1cd7",
   "metadata": {
    "tags": []
   },
   "outputs": [],
   "source": [
    "cell_types = merged.table.obs['celltype_major'].cat.categories.tolist()\n"
   ]
  },
  {
   "cell_type": "markdown",
   "id": "82d318d5-fa03-45e5-8450-302667db121f",
   "metadata": {},
   "source": [
    "We now effortlessly define a PyTorch `Dataset` for the `SpatialData` object using the class `ImageTileDataset()`.\n",
    "\n",
    "In particular we want the following.\n",
    "* We want the tile size to be 32 x 32 pixels.\n",
    "* At the same time, we want each tile to have a spatial extent of 3 times the average Xenium cell diameter\n",
    "* For each tile we want to extract the value of the `celltype_major` categorical column and encode this into a one-hot vector. We will use the `torchvision` transforms paradigma for achieving this.\n",
    "\n",
    "\n",
    "**Technical note.**\n",
    "There are some limitations when using PyTorch inside a Jupyter Notebook. Here we would need a function, that we call `my_transform()`, that we would use to apply a data transformation to the dataset. The function can't be defined here in the notebook so we will import it from a separate `Python` file. For more details please see here: https://stackoverflow.com/a/65001152.\n",
    "\n",
    "Here is the function that we would like to define.\n",
    "```python\n",
    "def my_transform(sdata: SpatialData) -> tuple[torch.tensor, torch.tensor]:\n",
    "    tile = sdata['CytAssist_FFPE_Human_Breast_Cancer_full_image'].data.compute()\n",
    "    tile = torch.tensor(tile)\n",
    "    \n",
    "    expected_category = sdata.table.obs['celltype_major'].values[0]\n",
    "    expected_category = cell_types.index(expected_category)\n",
    "    cell_type = F.one_hot(\n",
    "        torch.tensor(expected_category), num_classes=len(cell_types)\n",
    "    )\n",
    "    return tile, cell_type\n",
    "```"
   ]
  },
  {
   "cell_type": "code",
   "execution_count": 7,
   "id": "bf889c1d-4125-4683-ba39-7a061849d44c",
   "metadata": {
    "tags": []
   },
   "outputs": [
    {
     "data": {
      "text/plain": [
       "(tensor([[[245., 255., 252.,  ..., 255., 255., 254.],\n",
       "          [253., 254., 251.,  ..., 254., 255., 255.],\n",
       "          [255., 254., 253.,  ..., 251., 252., 254.],\n",
       "          ...,\n",
       "          [253., 255., 255.,  ..., 255., 252., 253.],\n",
       "          [249., 254., 254.,  ..., 254., 250., 251.],\n",
       "          [242., 250., 250.,  ..., 254., 250., 255.]],\n",
       " \n",
       "         [[174., 188., 197.,  ..., 205., 203., 189.],\n",
       "          [188., 192., 197.,  ..., 203., 204., 189.],\n",
       "          [198., 197., 202.,  ..., 200., 204., 186.],\n",
       "          ...,\n",
       "          [195., 206., 205.,  ..., 218., 216., 177.],\n",
       "          [187., 198., 199.,  ..., 222., 212., 177.],\n",
       "          [180., 191., 193.,  ..., 223., 210., 187.]],\n",
       " \n",
       "         [[219., 230., 225.,  ..., 230., 237., 236.],\n",
       "          [228., 226., 223.,  ..., 229., 238., 237.],\n",
       "          [231., 225., 224.,  ..., 226., 238., 233.],\n",
       "          ...,\n",
       "          [233., 236., 236.,  ..., 237., 238., 213.],\n",
       "          [223., 230., 231.,  ..., 240., 233., 212.],\n",
       "          [213., 224., 226.,  ..., 239., 230., 221.]]]),\n",
       " tensor([0., 1., 0., 0., 0., 0., 0., 0., 0.]))"
      ]
     },
     "execution_count": 7,
     "metadata": {},
     "output_type": "execute_result"
    }
   ],
   "source": [
    "# let's import the above function\n",
    "from densenet_utils import my_transform\n",
    "\n",
    "dataset = ImageTilesDataset(\n",
    "        sdata=merged,\n",
    "        regions_to_images={\n",
    "            \"cell_circles\": \"CytAssist_FFPE_Human_Breast_Cancer_full_image\"\n",
    "        },\n",
    "        tile_dim_in_units=3 * xenium_circles_diameter,\n",
    "        tile_dim_in_pixels=32,\n",
    "        target_coordinate_system=\"aligned\",\n",
    "        transform=my_transform\n",
    ")\n",
    "\n",
    "dataset[0]"
   ]
  },
  {
   "cell_type": "markdown",
   "id": "62641c09-186e-4ff0-ba0c-365e9bcd66aa",
   "metadata": {},
   "source": [
    "Let's now define a PyTorch Lightning data module to reduce the amount of boilerplate code we need to write."
   ]
  },
  {
   "cell_type": "code",
   "execution_count": 8,
   "id": "fe78581f",
   "metadata": {
    "collapsed": false,
    "jupyter": {
     "outputs_hidden": false
    }
   },
   "outputs": [],
   "source": [
    "class TilesDataModule(LightningDataModule):\n",
    "    def __init__(\n",
    "        self,\n",
    "        batch_size: int,\n",
    "        num_workers: int,\n",
    "        dataset: torch.utils.data.Dataset\n",
    "    ):\n",
    "        super().__init__()\n",
    "        \n",
    "        self.batch_size = batch_size\n",
    "        self.num_workers = num_workers\n",
    "        self.dataset = dataset\n",
    "        \n",
    "    def setup(self, stage=None):\n",
    "        n_train = int(len(self.dataset) * 0.7)\n",
    "        n_val = int(len(self.dataset) * 0.2)\n",
    "        n_test = len(self.dataset) - n_train - n_val\n",
    "        self.train, self.val, self.test = torch.utils.data.random_split(\n",
    "            self.dataset,\n",
    "            [n_train, n_val, n_test],\n",
    "            generator=torch.Generator().manual_seed(42),\n",
    "        )\n",
    "\n",
    "    def train_dataloader(self):\n",
    "        return DataLoader(\n",
    "            self.train,\n",
    "            batch_size=self.batch_size,\n",
    "            num_workers=self.num_workers,\n",
    "            shuffle=True,\n",
    "        )\n",
    "\n",
    "    def val_dataloader(self):\n",
    "        return DataLoader(\n",
    "            self.val,\n",
    "            batch_size=self.batch_size,\n",
    "            num_workers=self.num_workers,\n",
    "            shuffle=False,\n",
    "        )\n",
    "    \n",
    "    def test_dataloader(self):\n",
    "        return DataLoader(\n",
    "            self.test,\n",
    "            batch_size=self.batch_size,\n",
    "            num_workers=self.num_workers,\n",
    "            shuffle=False,\n",
    "        )\n",
    "    \n",
    "    def predict_dataloader(self):\n",
    "        return DataLoader(\n",
    "            self.dataset,\n",
    "            batch_size=self.batch_size,\n",
    "            num_workers=self.num_workers,\n",
    "            shuffle=False,\n",
    "        )"
   ]
  },
  {
   "cell_type": "markdown",
   "id": "ef6af2dd-2d1f-470f-b24a-7446cc04579a",
   "metadata": {},
   "source": [
    "Let's define the Dense Net, that we import from Monai."
   ]
  },
  {
   "cell_type": "code",
   "execution_count": 9,
   "id": "985aeabe-3dbe-4011-b1da-6f8b8bbabd38",
   "metadata": {
    "tags": []
   },
   "outputs": [],
   "source": [
    "class DenseNetModel(pl.LightningModule):\n",
    "    def __init__(self, learning_rate: float, in_channels: int, num_classes: int):\n",
    "        super().__init__()\n",
    "\n",
    "        # store hyperparameters\n",
    "        self.save_hyperparameters()\n",
    "\n",
    "        self.loss_function = CrossEntropyLoss()\n",
    "\n",
    "        # make the model\n",
    "        self.model = DenseNet121(\n",
    "            spatial_dims=2, in_channels=in_channels, out_channels=num_classes\n",
    "        )\n",
    "\n",
    "    def forward(self, x) -> torch.Tensor:\n",
    "        return self.model(x)\n",
    "\n",
    "    def _compute_loss_from_batch(\n",
    "        self, batch: Dict[str, torch.Tensor], batch_idx: int\n",
    "    ) -> float:\n",
    "        inputs = batch[0]\n",
    "        labels = batch[1]\n",
    "\n",
    "        outputs = self.model(inputs)\n",
    "        return self.loss_function(outputs, labels)\n",
    "\n",
    "    def training_step(\n",
    "        self, batch: Dict[str, torch.Tensor], batch_idx: int\n",
    "    ) -> Dict[str, float]:\n",
    "        # compute the loss\n",
    "        loss = self._compute_loss_from_batch(batch=batch, batch_idx=batch_idx)\n",
    "\n",
    "        # perform logging\n",
    "        self.log(\"training_loss\", loss, batch_size=len(batch[0]))\n",
    "\n",
    "        return {\"loss\": loss}\n",
    "\n",
    "    def validation_step(self, batch: Dict[str, torch.Tensor], batch_idx: int) -> float:\n",
    "        loss = self._compute_loss_from_batch(batch=batch, batch_idx=batch_idx)\n",
    "\n",
    "        imgs, labels = batch\n",
    "        acc = self.compute_accuracy(imgs, labels)\n",
    "        # By default logs it per epoch (weighted average over batches), and returns it afterwards\n",
    "        self.log(\"test_acc\", acc)\n",
    "\n",
    "        return loss\n",
    "\n",
    "    def test_step(self, batch, batch_idx):\n",
    "        imgs, labels = batch\n",
    "        acc = self.compute_accuracy(imgs, labels)\n",
    "        # By default logs it per epoch (weighted average over batches), and returns it afterwards\n",
    "        self.log(\"test_acc\", acc)\n",
    "\n",
    "    def predict_step(self, batch, batch_idx: int, dataloader_idx: int = 0):\n",
    "        imgs, labels = batch\n",
    "        preds = self.model(imgs).argmax(dim=-1)\n",
    "        return preds\n",
    "\n",
    "    def compute_accuracy(self, imgs, labels):\n",
    "        preds = self.model(imgs).argmax(dim=-1)\n",
    "        labels_value = torch.argmax(labels, dim=-1)\n",
    "        acc = (labels_value == preds).float().mean()\n",
    "        return acc\n",
    "\n",
    "    def configure_optimizers(self) -> Adam:\n",
    "        return Adam(self.model.parameters(), lr=self.hparams.learning_rate)\n"
   ]
  },
  {
   "cell_type": "markdown",
   "id": "c305c835-6c99-4f05-8cf4-aec8a5d21bfc",
   "metadata": {},
   "source": [
    "We are ready to train the model!"
   ]
  },
  {
   "cell_type": "code",
   "execution_count": 10,
   "id": "9cb9ac80-e693-4db6-88c0-624ce61a601a",
   "metadata": {
    "tags": []
   },
   "outputs": [
    {
     "name": "stderr",
     "output_type": "stream",
     "text": [
      "Global seed set to 7\n"
     ]
    },
    {
     "name": "stdout",
     "output_type": "stream",
     "text": [
      "Using 64 batch size.\n",
      "Using 8 workers.\n"
     ]
    },
    {
     "name": "stderr",
     "output_type": "stream",
     "text": [
      "GPU available: False, used: False\n",
      "TPU available: False, using: 0 TPU cores\n",
      "IPU available: False, using: 0 IPUs\n",
      "HPU available: False, using: 0 HPUs\n",
      "\n",
      "  | Name          | Type             | Params\n",
      "---------------------------------------------------\n",
      "0 | loss_function | CrossEntropyLoss | 0     \n",
      "1 | model         | DenseNet121      | 7.0 M \n",
      "---------------------------------------------------\n",
      "7.0 M     Trainable params\n",
      "0         Non-trainable params\n",
      "7.0 M     Total params\n",
      "27.852    Total estimated model params size (MB)\n"
     ]
    },
    {
     "name": "stdout",
     "output_type": "stream",
     "text": [
      "Sanity Checking: 0it [00:00, ?it/s]"
     ]
    },
    {
     "name": "stderr",
     "output_type": "stream",
     "text": [
      "/Users/macbook/miniconda3/envs/ome/lib/python3.10/site-packages/geopandas/_compat.py:123: UserWarning: The Shapely GEOS version (3.11.1-CAPI-1.17.1) is incompatible with the GEOS version PyGEOS was compiled with (3.10.4-CAPI-1.16.2). Conversions between both will be slow.\n",
      "  warnings.warn(\n",
      "/Users/macbook/embl/projects/basel/spatialdata/src/spatialdata/__init__.py:9: UserWarning: Geopandas was set to use PyGEOS, changing to shapely 2.0 with:\n",
      "\n",
      "\tgeopandas.options.use_pygeos = True\n",
      "\n",
      "If you intended to use PyGEOS, set the option to False.\n",
      "  _check_geopandas_using_shapely()\n",
      "/Users/macbook/miniconda3/envs/ome/lib/python3.10/site-packages/geopandas/_compat.py:123: UserWarning: The Shapely GEOS version (3.11.1-CAPI-1.17.1) is incompatible with the GEOS version PyGEOS was compiled with (3.10.4-CAPI-1.16.2). Conversions between both will be slow.\n",
      "  warnings.warn(\n",
      "/Users/macbook/embl/projects/basel/spatialdata/src/spatialdata/__init__.py:9: UserWarning: Geopandas was set to use PyGEOS, changing to shapely 2.0 with:\n",
      "\n",
      "\tgeopandas.options.use_pygeos = True\n",
      "\n",
      "If you intended to use PyGEOS, set the option to False.\n",
      "  _check_geopandas_using_shapely()\n",
      "/Users/macbook/miniconda3/envs/ome/lib/python3.10/site-packages/geopandas/_compat.py:123: UserWarning: The Shapely GEOS version (3.11.1-CAPI-1.17.1) is incompatible with the GEOS version PyGEOS was compiled with (3.10.4-CAPI-1.16.2). Conversions between both will be slow.\n",
      "  warnings.warn(\n",
      "/Users/macbook/embl/projects/basel/spatialdata/src/spatialdata/__init__.py:9: UserWarning: Geopandas was set to use PyGEOS, changing to shapely 2.0 with:\n",
      "\n",
      "\tgeopandas.options.use_pygeos = True\n",
      "\n",
      "If you intended to use PyGEOS, set the option to False.\n",
      "  _check_geopandas_using_shapely()\n",
      "/Users/macbook/miniconda3/envs/ome/lib/python3.10/site-packages/geopandas/_compat.py:123: UserWarning: The Shapely GEOS version (3.11.1-CAPI-1.17.1) is incompatible with the GEOS version PyGEOS was compiled with (3.10.4-CAPI-1.16.2). Conversions between both will be slow.\n",
      "  warnings.warn(\n",
      "/Users/macbook/embl/projects/basel/spatialdata/src/spatialdata/__init__.py:9: UserWarning: Geopandas was set to use PyGEOS, changing to shapely 2.0 with:\n",
      "\n",
      "\tgeopandas.options.use_pygeos = True\n",
      "\n",
      "If you intended to use PyGEOS, set the option to False.\n",
      "  _check_geopandas_using_shapely()\n",
      "/Users/macbook/miniconda3/envs/ome/lib/python3.10/site-packages/geopandas/_compat.py:123: UserWarning: The Shapely GEOS version (3.11.1-CAPI-1.17.1) is incompatible with the GEOS version PyGEOS was compiled with (3.10.4-CAPI-1.16.2). Conversions between both will be slow.\n",
      "  warnings.warn(\n",
      "/Users/macbook/embl/projects/basel/spatialdata/src/spatialdata/__init__.py:9: UserWarning: Geopandas was set to use PyGEOS, changing to shapely 2.0 with:\n",
      "\n",
      "\tgeopandas.options.use_pygeos = True\n",
      "\n",
      "If you intended to use PyGEOS, set the option to False.\n",
      "  _check_geopandas_using_shapely()\n",
      "/Users/macbook/miniconda3/envs/ome/lib/python3.10/site-packages/geopandas/_compat.py:123: UserWarning: The Shapely GEOS version (3.11.1-CAPI-1.17.1) is incompatible with the GEOS version PyGEOS was compiled with (3.10.4-CAPI-1.16.2). Conversions between both will be slow.\n",
      "  warnings.warn(\n",
      "/Users/macbook/embl/projects/basel/spatialdata/src/spatialdata/__init__.py:9: UserWarning: Geopandas was set to use PyGEOS, changing to shapely 2.0 with:\n",
      "\n",
      "\tgeopandas.options.use_pygeos = True\n",
      "\n",
      "If you intended to use PyGEOS, set the option to False.\n",
      "  _check_geopandas_using_shapely()\n",
      "/Users/macbook/miniconda3/envs/ome/lib/python3.10/site-packages/geopandas/_compat.py:123: UserWarning: The Shapely GEOS version (3.11.1-CAPI-1.17.1) is incompatible with the GEOS version PyGEOS was compiled with (3.10.4-CAPI-1.16.2). Conversions between both will be slow.\n",
      "  warnings.warn(\n",
      "/Users/macbook/embl/projects/basel/spatialdata/src/spatialdata/__init__.py:9: UserWarning: Geopandas was set to use PyGEOS, changing to shapely 2.0 with:\n",
      "\n",
      "\tgeopandas.options.use_pygeos = True\n",
      "\n",
      "If you intended to use PyGEOS, set the option to False.\n",
      "  _check_geopandas_using_shapely()\n",
      "/Users/macbook/miniconda3/envs/ome/lib/python3.10/site-packages/geopandas/_compat.py:123: UserWarning: The Shapely GEOS version (3.11.1-CAPI-1.17.1) is incompatible with the GEOS version PyGEOS was compiled with (3.10.4-CAPI-1.16.2). Conversions between both will be slow.\n",
      "  warnings.warn(\n",
      "/Users/macbook/embl/projects/basel/spatialdata/src/spatialdata/__init__.py:9: UserWarning: Geopandas was set to use PyGEOS, changing to shapely 2.0 with:\n",
      "\n",
      "\tgeopandas.options.use_pygeos = True\n",
      "\n",
      "If you intended to use PyGEOS, set the option to False.\n",
      "  _check_geopandas_using_shapely()\n"
     ]
    },
    {
     "name": "stdout",
     "output_type": "stream",
     "text": [
      "                                                                                                                                                 "
     ]
    },
    {
     "name": "stderr",
     "output_type": "stream",
     "text": [
      "/Users/macbook/miniconda3/envs/ome/lib/python3.10/site-packages/pytorch_lightning/trainer/trainer.py:1595: PossibleUserWarning: The number of training batches (20) is smaller than the logging interval Trainer(log_every_n_steps=50). Set a lower value for log_every_n_steps if you want to see logs for the training epoch.\n",
      "  rank_zero_warn(\n"
     ]
    },
    {
     "name": "stdout",
     "output_type": "stream",
     "text": [
      "Epoch 0:   0%|                                                                                                            | 0/26 [00:00<?, ?it/s]"
     ]
    },
    {
     "name": "stderr",
     "output_type": "stream",
     "text": [
      "/Users/macbook/miniconda3/envs/ome/lib/python3.10/site-packages/geopandas/_compat.py:123: UserWarning: The Shapely GEOS version (3.11.1-CAPI-1.17.1) is incompatible with the GEOS version PyGEOS was compiled with (3.10.4-CAPI-1.16.2). Conversions between both will be slow.\n",
      "  warnings.warn(\n",
      "/Users/macbook/embl/projects/basel/spatialdata/src/spatialdata/__init__.py:9: UserWarning: Geopandas was set to use PyGEOS, changing to shapely 2.0 with:\n",
      "\n",
      "\tgeopandas.options.use_pygeos = True\n",
      "\n",
      "If you intended to use PyGEOS, set the option to False.\n",
      "  _check_geopandas_using_shapely()\n",
      "/Users/macbook/miniconda3/envs/ome/lib/python3.10/site-packages/geopandas/_compat.py:123: UserWarning: The Shapely GEOS version (3.11.1-CAPI-1.17.1) is incompatible with the GEOS version PyGEOS was compiled with (3.10.4-CAPI-1.16.2). Conversions between both will be slow.\n",
      "  warnings.warn(\n",
      "/Users/macbook/embl/projects/basel/spatialdata/src/spatialdata/__init__.py:9: UserWarning: Geopandas was set to use PyGEOS, changing to shapely 2.0 with:\n",
      "\n",
      "\tgeopandas.options.use_pygeos = True\n",
      "\n",
      "If you intended to use PyGEOS, set the option to False.\n",
      "  _check_geopandas_using_shapely()\n",
      "/Users/macbook/miniconda3/envs/ome/lib/python3.10/site-packages/geopandas/_compat.py:123: UserWarning: The Shapely GEOS version (3.11.1-CAPI-1.17.1) is incompatible with the GEOS version PyGEOS was compiled with (3.10.4-CAPI-1.16.2). Conversions between both will be slow.\n",
      "  warnings.warn(\n",
      "/Users/macbook/embl/projects/basel/spatialdata/src/spatialdata/__init__.py:9: UserWarning: Geopandas was set to use PyGEOS, changing to shapely 2.0 with:\n",
      "\n",
      "\tgeopandas.options.use_pygeos = True\n",
      "\n",
      "If you intended to use PyGEOS, set the option to False.\n",
      "  _check_geopandas_using_shapely()\n",
      "/Users/macbook/miniconda3/envs/ome/lib/python3.10/site-packages/geopandas/_compat.py:123: UserWarning: The Shapely GEOS version (3.11.1-CAPI-1.17.1) is incompatible with the GEOS version PyGEOS was compiled with (3.10.4-CAPI-1.16.2). Conversions between both will be slow.\n",
      "  warnings.warn(\n",
      "/Users/macbook/embl/projects/basel/spatialdata/src/spatialdata/__init__.py:9: UserWarning: Geopandas was set to use PyGEOS, changing to shapely 2.0 with:\n",
      "\n",
      "\tgeopandas.options.use_pygeos = True\n",
      "\n",
      "If you intended to use PyGEOS, set the option to False.\n",
      "  _check_geopandas_using_shapely()\n",
      "/Users/macbook/miniconda3/envs/ome/lib/python3.10/site-packages/geopandas/_compat.py:123: UserWarning: The Shapely GEOS version (3.11.1-CAPI-1.17.1) is incompatible with the GEOS version PyGEOS was compiled with (3.10.4-CAPI-1.16.2). Conversions between both will be slow.\n",
      "  warnings.warn(\n",
      "/Users/macbook/embl/projects/basel/spatialdata/src/spatialdata/__init__.py:9: UserWarning: Geopandas was set to use PyGEOS, changing to shapely 2.0 with:\n",
      "\n",
      "\tgeopandas.options.use_pygeos = True\n",
      "\n",
      "If you intended to use PyGEOS, set the option to False.\n",
      "  _check_geopandas_using_shapely()\n",
      "/Users/macbook/miniconda3/envs/ome/lib/python3.10/site-packages/geopandas/_compat.py:123: UserWarning: The Shapely GEOS version (3.11.1-CAPI-1.17.1) is incompatible with the GEOS version PyGEOS was compiled with (3.10.4-CAPI-1.16.2). Conversions between both will be slow.\n",
      "  warnings.warn(\n",
      "/Users/macbook/embl/projects/basel/spatialdata/src/spatialdata/__init__.py:9: UserWarning: Geopandas was set to use PyGEOS, changing to shapely 2.0 with:\n",
      "\n",
      "\tgeopandas.options.use_pygeos = True\n",
      "\n",
      "If you intended to use PyGEOS, set the option to False.\n",
      "  _check_geopandas_using_shapely()\n",
      "/Users/macbook/miniconda3/envs/ome/lib/python3.10/site-packages/geopandas/_compat.py:123: UserWarning: The Shapely GEOS version (3.11.1-CAPI-1.17.1) is incompatible with the GEOS version PyGEOS was compiled with (3.10.4-CAPI-1.16.2). Conversions between both will be slow.\n",
      "  warnings.warn(\n",
      "/Users/macbook/embl/projects/basel/spatialdata/src/spatialdata/__init__.py:9: UserWarning: Geopandas was set to use PyGEOS, changing to shapely 2.0 with:\n",
      "\n",
      "\tgeopandas.options.use_pygeos = True\n",
      "\n",
      "If you intended to use PyGEOS, set the option to False.\n",
      "  _check_geopandas_using_shapely()\n",
      "/Users/macbook/miniconda3/envs/ome/lib/python3.10/site-packages/geopandas/_compat.py:123: UserWarning: The Shapely GEOS version (3.11.1-CAPI-1.17.1) is incompatible with the GEOS version PyGEOS was compiled with (3.10.4-CAPI-1.16.2). Conversions between both will be slow.\n",
      "  warnings.warn(\n",
      "/Users/macbook/embl/projects/basel/spatialdata/src/spatialdata/__init__.py:9: UserWarning: Geopandas was set to use PyGEOS, changing to shapely 2.0 with:\n",
      "\n",
      "\tgeopandas.options.use_pygeos = True\n",
      "\n",
      "If you intended to use PyGEOS, set the option to False.\n",
      "  _check_geopandas_using_shapely()\n"
     ]
    },
    {
     "name": "stdout",
     "output_type": "stream",
     "text": [
      "Epoch 0:  77%|████████████████████████████████████████████████████████████▊                  | 20/26 [00:51<00:15,  2.60s/it, loss=2.2, v_num=12]\n",
      "Validation: 0it [00:00, ?it/s]\u001b[A"
     ]
    },
    {
     "name": "stderr",
     "output_type": "stream",
     "text": [
      "/Users/macbook/miniconda3/envs/ome/lib/python3.10/site-packages/geopandas/_compat.py:123: UserWarning: The Shapely GEOS version (3.11.1-CAPI-1.17.1) is incompatible with the GEOS version PyGEOS was compiled with (3.10.4-CAPI-1.16.2). Conversions between both will be slow.\n",
      "  warnings.warn(\n",
      "/Users/macbook/embl/projects/basel/spatialdata/src/spatialdata/__init__.py:9: UserWarning: Geopandas was set to use PyGEOS, changing to shapely 2.0 with:\n",
      "\n",
      "\tgeopandas.options.use_pygeos = True\n",
      "\n",
      "If you intended to use PyGEOS, set the option to False.\n",
      "  _check_geopandas_using_shapely()\n",
      "/Users/macbook/miniconda3/envs/ome/lib/python3.10/site-packages/geopandas/_compat.py:123: UserWarning: The Shapely GEOS version (3.11.1-CAPI-1.17.1) is incompatible with the GEOS version PyGEOS was compiled with (3.10.4-CAPI-1.16.2). Conversions between both will be slow.\n",
      "  warnings.warn(\n",
      "/Users/macbook/embl/projects/basel/spatialdata/src/spatialdata/__init__.py:9: UserWarning: Geopandas was set to use PyGEOS, changing to shapely 2.0 with:\n",
      "\n",
      "\tgeopandas.options.use_pygeos = True\n",
      "\n",
      "If you intended to use PyGEOS, set the option to False.\n",
      "  _check_geopandas_using_shapely()\n",
      "/Users/macbook/miniconda3/envs/ome/lib/python3.10/site-packages/geopandas/_compat.py:123: UserWarning: The Shapely GEOS version (3.11.1-CAPI-1.17.1) is incompatible with the GEOS version PyGEOS was compiled with (3.10.4-CAPI-1.16.2). Conversions between both will be slow.\n",
      "  warnings.warn(\n",
      "/Users/macbook/embl/projects/basel/spatialdata/src/spatialdata/__init__.py:9: UserWarning: Geopandas was set to use PyGEOS, changing to shapely 2.0 with:\n",
      "\n",
      "\tgeopandas.options.use_pygeos = True\n",
      "\n",
      "If you intended to use PyGEOS, set the option to False.\n",
      "  _check_geopandas_using_shapely()\n",
      "/Users/macbook/miniconda3/envs/ome/lib/python3.10/site-packages/geopandas/_compat.py:123: UserWarning: The Shapely GEOS version (3.11.1-CAPI-1.17.1) is incompatible with the GEOS version PyGEOS was compiled with (3.10.4-CAPI-1.16.2). Conversions between both will be slow.\n",
      "  warnings.warn(\n",
      "/Users/macbook/embl/projects/basel/spatialdata/src/spatialdata/__init__.py:9: UserWarning: Geopandas was set to use PyGEOS, changing to shapely 2.0 with:\n",
      "\n",
      "\tgeopandas.options.use_pygeos = True\n",
      "\n",
      "If you intended to use PyGEOS, set the option to False.\n",
      "  _check_geopandas_using_shapely()\n",
      "/Users/macbook/miniconda3/envs/ome/lib/python3.10/site-packages/geopandas/_compat.py:123: UserWarning: The Shapely GEOS version (3.11.1-CAPI-1.17.1) is incompatible with the GEOS version PyGEOS was compiled with (3.10.4-CAPI-1.16.2). Conversions between both will be slow.\n",
      "  warnings.warn(\n",
      "/Users/macbook/embl/projects/basel/spatialdata/src/spatialdata/__init__.py:9: UserWarning: Geopandas was set to use PyGEOS, changing to shapely 2.0 with:\n",
      "\n",
      "\tgeopandas.options.use_pygeos = True\n",
      "\n",
      "If you intended to use PyGEOS, set the option to False.\n",
      "  _check_geopandas_using_shapely()\n",
      "/Users/macbook/miniconda3/envs/ome/lib/python3.10/site-packages/geopandas/_compat.py:123: UserWarning: The Shapely GEOS version (3.11.1-CAPI-1.17.1) is incompatible with the GEOS version PyGEOS was compiled with (3.10.4-CAPI-1.16.2). Conversions between both will be slow.\n",
      "  warnings.warn(\n",
      "/Users/macbook/embl/projects/basel/spatialdata/src/spatialdata/__init__.py:9: UserWarning: Geopandas was set to use PyGEOS, changing to shapely 2.0 with:\n",
      "\n",
      "\tgeopandas.options.use_pygeos = True\n",
      "\n",
      "If you intended to use PyGEOS, set the option to False.\n",
      "  _check_geopandas_using_shapely()\n",
      "/Users/macbook/miniconda3/envs/ome/lib/python3.10/site-packages/geopandas/_compat.py:123: UserWarning: The Shapely GEOS version (3.11.1-CAPI-1.17.1) is incompatible with the GEOS version PyGEOS was compiled with (3.10.4-CAPI-1.16.2). Conversions between both will be slow.\n",
      "  warnings.warn(\n",
      "/Users/macbook/embl/projects/basel/spatialdata/src/spatialdata/__init__.py:9: UserWarning: Geopandas was set to use PyGEOS, changing to shapely 2.0 with:\n",
      "\n",
      "\tgeopandas.options.use_pygeos = True\n",
      "\n",
      "If you intended to use PyGEOS, set the option to False.\n",
      "  _check_geopandas_using_shapely()\n",
      "/Users/macbook/miniconda3/envs/ome/lib/python3.10/site-packages/geopandas/_compat.py:123: UserWarning: The Shapely GEOS version (3.11.1-CAPI-1.17.1) is incompatible with the GEOS version PyGEOS was compiled with (3.10.4-CAPI-1.16.2). Conversions between both will be slow.\n",
      "  warnings.warn(\n",
      "/Users/macbook/embl/projects/basel/spatialdata/src/spatialdata/__init__.py:9: UserWarning: Geopandas was set to use PyGEOS, changing to shapely 2.0 with:\n",
      "\n",
      "\tgeopandas.options.use_pygeos = True\n",
      "\n",
      "If you intended to use PyGEOS, set the option to False.\n",
      "  _check_geopandas_using_shapely()\n"
     ]
    },
    {
     "name": "stdout",
     "output_type": "stream",
     "text": [
      "\n",
      "Validation:   0%|                                                                                                          | 0/6 [00:00<?, ?it/s]\u001b[A\n",
      "Validation DataLoader 0:   0%|                                                                                             | 0/6 [00:00<?, ?it/s]\u001b[A\n",
      "Epoch 0:  96%|███████████████████████████████████████████████████████████████████████████▉   | 25/26 [01:48<00:04,  4.33s/it, loss=2.2, v_num=12]\u001b[A\n",
      "Epoch 0: 100%|███████████████████████████████████████████████████████████████████████████████| 26/26 [01:48<00:00,  4.18s/it, loss=2.2, v_num=12]\u001b[A\n",
      "Epoch 1:   0%|                                                                                        | 0/26 [00:00<?, ?it/s, loss=2.2, v_num=12]\u001b[A"
     ]
    },
    {
     "name": "stderr",
     "output_type": "stream",
     "text": [
      "/Users/macbook/miniconda3/envs/ome/lib/python3.10/site-packages/geopandas/_compat.py:123: UserWarning: The Shapely GEOS version (3.11.1-CAPI-1.17.1) is incompatible with the GEOS version PyGEOS was compiled with (3.10.4-CAPI-1.16.2). Conversions between both will be slow.\n",
      "  warnings.warn(\n",
      "/Users/macbook/embl/projects/basel/spatialdata/src/spatialdata/__init__.py:9: UserWarning: Geopandas was set to use PyGEOS, changing to shapely 2.0 with:\n",
      "\n",
      "\tgeopandas.options.use_pygeos = True\n",
      "\n",
      "If you intended to use PyGEOS, set the option to False.\n",
      "  _check_geopandas_using_shapely()\n",
      "/Users/macbook/miniconda3/envs/ome/lib/python3.10/site-packages/geopandas/_compat.py:123: UserWarning: The Shapely GEOS version (3.11.1-CAPI-1.17.1) is incompatible with the GEOS version PyGEOS was compiled with (3.10.4-CAPI-1.16.2). Conversions between both will be slow.\n",
      "  warnings.warn(\n",
      "/Users/macbook/embl/projects/basel/spatialdata/src/spatialdata/__init__.py:9: UserWarning: Geopandas was set to use PyGEOS, changing to shapely 2.0 with:\n",
      "\n",
      "\tgeopandas.options.use_pygeos = True\n",
      "\n",
      "If you intended to use PyGEOS, set the option to False.\n",
      "  _check_geopandas_using_shapely()\n",
      "/Users/macbook/miniconda3/envs/ome/lib/python3.10/site-packages/geopandas/_compat.py:123: UserWarning: The Shapely GEOS version (3.11.1-CAPI-1.17.1) is incompatible with the GEOS version PyGEOS was compiled with (3.10.4-CAPI-1.16.2). Conversions between both will be slow.\n",
      "  warnings.warn(\n",
      "/Users/macbook/embl/projects/basel/spatialdata/src/spatialdata/__init__.py:9: UserWarning: Geopandas was set to use PyGEOS, changing to shapely 2.0 with:\n",
      "\n",
      "\tgeopandas.options.use_pygeos = True\n",
      "\n",
      "If you intended to use PyGEOS, set the option to False.\n",
      "  _check_geopandas_using_shapely()\n",
      "/Users/macbook/miniconda3/envs/ome/lib/python3.10/site-packages/geopandas/_compat.py:123: UserWarning: The Shapely GEOS version (3.11.1-CAPI-1.17.1) is incompatible with the GEOS version PyGEOS was compiled with (3.10.4-CAPI-1.16.2). Conversions between both will be slow.\n",
      "  warnings.warn(\n",
      "/Users/macbook/embl/projects/basel/spatialdata/src/spatialdata/__init__.py:9: UserWarning: Geopandas was set to use PyGEOS, changing to shapely 2.0 with:\n",
      "\n",
      "\tgeopandas.options.use_pygeos = True\n",
      "\n",
      "If you intended to use PyGEOS, set the option to False.\n",
      "  _check_geopandas_using_shapely()\n",
      "/Users/macbook/miniconda3/envs/ome/lib/python3.10/site-packages/geopandas/_compat.py:123: UserWarning: The Shapely GEOS version (3.11.1-CAPI-1.17.1) is incompatible with the GEOS version PyGEOS was compiled with (3.10.4-CAPI-1.16.2). Conversions between both will be slow.\n",
      "  warnings.warn(\n",
      "/Users/macbook/embl/projects/basel/spatialdata/src/spatialdata/__init__.py:9: UserWarning: Geopandas was set to use PyGEOS, changing to shapely 2.0 with:\n",
      "\n",
      "\tgeopandas.options.use_pygeos = True\n",
      "\n",
      "If you intended to use PyGEOS, set the option to False.\n",
      "  _check_geopandas_using_shapely()\n",
      "/Users/macbook/miniconda3/envs/ome/lib/python3.10/site-packages/geopandas/_compat.py:123: UserWarning: The Shapely GEOS version (3.11.1-CAPI-1.17.1) is incompatible with the GEOS version PyGEOS was compiled with (3.10.4-CAPI-1.16.2). Conversions between both will be slow.\n",
      "  warnings.warn(\n",
      "/Users/macbook/embl/projects/basel/spatialdata/src/spatialdata/__init__.py:9: UserWarning: Geopandas was set to use PyGEOS, changing to shapely 2.0 with:\n",
      "\n",
      "\tgeopandas.options.use_pygeos = True\n",
      "\n",
      "If you intended to use PyGEOS, set the option to False.\n",
      "  _check_geopandas_using_shapely()\n",
      "/Users/macbook/miniconda3/envs/ome/lib/python3.10/site-packages/geopandas/_compat.py:123: UserWarning: The Shapely GEOS version (3.11.1-CAPI-1.17.1) is incompatible with the GEOS version PyGEOS was compiled with (3.10.4-CAPI-1.16.2). Conversions between both will be slow.\n",
      "  warnings.warn(\n",
      "/Users/macbook/embl/projects/basel/spatialdata/src/spatialdata/__init__.py:9: UserWarning: Geopandas was set to use PyGEOS, changing to shapely 2.0 with:\n",
      "\n",
      "\tgeopandas.options.use_pygeos = True\n",
      "\n",
      "If you intended to use PyGEOS, set the option to False.\n",
      "  _check_geopandas_using_shapely()\n",
      "/Users/macbook/miniconda3/envs/ome/lib/python3.10/site-packages/geopandas/_compat.py:123: UserWarning: The Shapely GEOS version (3.11.1-CAPI-1.17.1) is incompatible with the GEOS version PyGEOS was compiled with (3.10.4-CAPI-1.16.2). Conversions between both will be slow.\n",
      "  warnings.warn(\n",
      "/Users/macbook/embl/projects/basel/spatialdata/src/spatialdata/__init__.py:9: UserWarning: Geopandas was set to use PyGEOS, changing to shapely 2.0 with:\n",
      "\n",
      "\tgeopandas.options.use_pygeos = True\n",
      "\n",
      "If you intended to use PyGEOS, set the option to False.\n",
      "  _check_geopandas_using_shapely()\n"
     ]
    },
    {
     "name": "stdout",
     "output_type": "stream",
     "text": [
      "Epoch 1:  77%|████████████████████████████████████████████████████████████                  | 20/26 [01:30<00:27,  4.54s/it, loss=1.99, v_num=12]\n",
      "Validation: 0it [00:00, ?it/s]\u001b[A"
     ]
    },
    {
     "name": "stderr",
     "output_type": "stream",
     "text": [
      "/Users/macbook/miniconda3/envs/ome/lib/python3.10/site-packages/geopandas/_compat.py:123: UserWarning: The Shapely GEOS version (3.11.1-CAPI-1.17.1) is incompatible with the GEOS version PyGEOS was compiled with (3.10.4-CAPI-1.16.2). Conversions between both will be slow.\n",
      "  warnings.warn(\n",
      "/Users/macbook/embl/projects/basel/spatialdata/src/spatialdata/__init__.py:9: UserWarning: Geopandas was set to use PyGEOS, changing to shapely 2.0 with:\n",
      "\n",
      "\tgeopandas.options.use_pygeos = True\n",
      "\n",
      "If you intended to use PyGEOS, set the option to False.\n",
      "  _check_geopandas_using_shapely()\n",
      "/Users/macbook/miniconda3/envs/ome/lib/python3.10/site-packages/geopandas/_compat.py:123: UserWarning: The Shapely GEOS version (3.11.1-CAPI-1.17.1) is incompatible with the GEOS version PyGEOS was compiled with (3.10.4-CAPI-1.16.2). Conversions between both will be slow.\n",
      "  warnings.warn(\n",
      "/Users/macbook/embl/projects/basel/spatialdata/src/spatialdata/__init__.py:9: UserWarning: Geopandas was set to use PyGEOS, changing to shapely 2.0 with:\n",
      "\n",
      "\tgeopandas.options.use_pygeos = True\n",
      "\n",
      "If you intended to use PyGEOS, set the option to False.\n",
      "  _check_geopandas_using_shapely()\n",
      "/Users/macbook/miniconda3/envs/ome/lib/python3.10/site-packages/geopandas/_compat.py:123: UserWarning: The Shapely GEOS version (3.11.1-CAPI-1.17.1) is incompatible with the GEOS version PyGEOS was compiled with (3.10.4-CAPI-1.16.2). Conversions between both will be slow.\n",
      "  warnings.warn(\n",
      "/Users/macbook/embl/projects/basel/spatialdata/src/spatialdata/__init__.py:9: UserWarning: Geopandas was set to use PyGEOS, changing to shapely 2.0 with:\n",
      "\n",
      "\tgeopandas.options.use_pygeos = True\n",
      "\n",
      "If you intended to use PyGEOS, set the option to False.\n",
      "  _check_geopandas_using_shapely()\n",
      "/Users/macbook/miniconda3/envs/ome/lib/python3.10/site-packages/geopandas/_compat.py:123: UserWarning: The Shapely GEOS version (3.11.1-CAPI-1.17.1) is incompatible with the GEOS version PyGEOS was compiled with (3.10.4-CAPI-1.16.2). Conversions between both will be slow.\n",
      "  warnings.warn(\n",
      "/Users/macbook/embl/projects/basel/spatialdata/src/spatialdata/__init__.py:9: UserWarning: Geopandas was set to use PyGEOS, changing to shapely 2.0 with:\n",
      "\n",
      "\tgeopandas.options.use_pygeos = True\n",
      "\n",
      "If you intended to use PyGEOS, set the option to False.\n",
      "  _check_geopandas_using_shapely()\n",
      "/Users/macbook/miniconda3/envs/ome/lib/python3.10/site-packages/geopandas/_compat.py:123: UserWarning: The Shapely GEOS version (3.11.1-CAPI-1.17.1) is incompatible with the GEOS version PyGEOS was compiled with (3.10.4-CAPI-1.16.2). Conversions between both will be slow.\n",
      "  warnings.warn(\n",
      "/Users/macbook/embl/projects/basel/spatialdata/src/spatialdata/__init__.py:9: UserWarning: Geopandas was set to use PyGEOS, changing to shapely 2.0 with:\n",
      "\n",
      "\tgeopandas.options.use_pygeos = True\n",
      "\n",
      "If you intended to use PyGEOS, set the option to False.\n",
      "  _check_geopandas_using_shapely()\n",
      "/Users/macbook/miniconda3/envs/ome/lib/python3.10/site-packages/geopandas/_compat.py:123: UserWarning: The Shapely GEOS version (3.11.1-CAPI-1.17.1) is incompatible with the GEOS version PyGEOS was compiled with (3.10.4-CAPI-1.16.2). Conversions between both will be slow.\n",
      "  warnings.warn(\n",
      "/Users/macbook/embl/projects/basel/spatialdata/src/spatialdata/__init__.py:9: UserWarning: Geopandas was set to use PyGEOS, changing to shapely 2.0 with:\n",
      "\n",
      "\tgeopandas.options.use_pygeos = True\n",
      "\n",
      "If you intended to use PyGEOS, set the option to False.\n",
      "  _check_geopandas_using_shapely()\n",
      "/Users/macbook/miniconda3/envs/ome/lib/python3.10/site-packages/geopandas/_compat.py:123: UserWarning: The Shapely GEOS version (3.11.1-CAPI-1.17.1) is incompatible with the GEOS version PyGEOS was compiled with (3.10.4-CAPI-1.16.2). Conversions between both will be slow.\n",
      "  warnings.warn(\n",
      "/Users/macbook/embl/projects/basel/spatialdata/src/spatialdata/__init__.py:9: UserWarning: Geopandas was set to use PyGEOS, changing to shapely 2.0 with:\n",
      "\n",
      "\tgeopandas.options.use_pygeos = True\n",
      "\n",
      "If you intended to use PyGEOS, set the option to False.\n",
      "  _check_geopandas_using_shapely()\n",
      "/Users/macbook/miniconda3/envs/ome/lib/python3.10/site-packages/geopandas/_compat.py:123: UserWarning: The Shapely GEOS version (3.11.1-CAPI-1.17.1) is incompatible with the GEOS version PyGEOS was compiled with (3.10.4-CAPI-1.16.2). Conversions between both will be slow.\n",
      "  warnings.warn(\n",
      "/Users/macbook/embl/projects/basel/spatialdata/src/spatialdata/__init__.py:9: UserWarning: Geopandas was set to use PyGEOS, changing to shapely 2.0 with:\n",
      "\n",
      "\tgeopandas.options.use_pygeos = True\n",
      "\n",
      "If you intended to use PyGEOS, set the option to False.\n",
      "  _check_geopandas_using_shapely()\n"
     ]
    },
    {
     "name": "stdout",
     "output_type": "stream",
     "text": [
      "\n",
      "Validation:   0%|                                                                                                          | 0/6 [00:00<?, ?it/s]\u001b[A\n",
      "Validation DataLoader 0:   0%|                                                                                             | 0/6 [00:00<?, ?it/s]\u001b[A\n",
      "Epoch 1:  96%|███████████████████████████████████████████████████████████████████████████   | 25/26 [02:27<00:05,  5.90s/it, loss=1.99, v_num=12]\u001b[A\n",
      "Epoch 1: 100%|██████████████████████████████████████████████████████████████████████████████| 26/26 [02:27<00:00,  5.69s/it, loss=1.99, v_num=12]\u001b[A\n",
      "Epoch 1: 100%|██████████████████████████████████████████████████████████████████████████████| 26/26 [02:27<00:00,  5.69s/it, loss=1.99, v_num=12]\u001b[A"
     ]
    },
    {
     "name": "stderr",
     "output_type": "stream",
     "text": [
      "`Trainer.fit` stopped: `max_epochs=2` reached.\n"
     ]
    },
    {
     "name": "stdout",
     "output_type": "stream",
     "text": [
      "Epoch 1: 100%|██████████████████████████████████████████████████████████████████████████████| 26/26 [02:28<00:00,  5.70s/it, loss=1.99, v_num=12]\n",
      "Testing: 0it [00:00, ?it/s]"
     ]
    },
    {
     "name": "stderr",
     "output_type": "stream",
     "text": [
      "/Users/macbook/miniconda3/envs/ome/lib/python3.10/site-packages/geopandas/_compat.py:123: UserWarning: The Shapely GEOS version (3.11.1-CAPI-1.17.1) is incompatible with the GEOS version PyGEOS was compiled with (3.10.4-CAPI-1.16.2). Conversions between both will be slow.\n",
      "  warnings.warn(\n",
      "/Users/macbook/embl/projects/basel/spatialdata/src/spatialdata/__init__.py:9: UserWarning: Geopandas was set to use PyGEOS, changing to shapely 2.0 with:\n",
      "\n",
      "\tgeopandas.options.use_pygeos = True\n",
      "\n",
      "If you intended to use PyGEOS, set the option to False.\n",
      "  _check_geopandas_using_shapely()\n",
      "/Users/macbook/miniconda3/envs/ome/lib/python3.10/site-packages/geopandas/_compat.py:123: UserWarning: The Shapely GEOS version (3.11.1-CAPI-1.17.1) is incompatible with the GEOS version PyGEOS was compiled with (3.10.4-CAPI-1.16.2). Conversions between both will be slow.\n",
      "  warnings.warn(\n",
      "/Users/macbook/embl/projects/basel/spatialdata/src/spatialdata/__init__.py:9: UserWarning: Geopandas was set to use PyGEOS, changing to shapely 2.0 with:\n",
      "\n",
      "\tgeopandas.options.use_pygeos = True\n",
      "\n",
      "If you intended to use PyGEOS, set the option to False.\n",
      "  _check_geopandas_using_shapely()\n",
      "/Users/macbook/miniconda3/envs/ome/lib/python3.10/site-packages/geopandas/_compat.py:123: UserWarning: The Shapely GEOS version (3.11.1-CAPI-1.17.1) is incompatible with the GEOS version PyGEOS was compiled with (3.10.4-CAPI-1.16.2). Conversions between both will be slow.\n",
      "  warnings.warn(\n",
      "/Users/macbook/embl/projects/basel/spatialdata/src/spatialdata/__init__.py:9: UserWarning: Geopandas was set to use PyGEOS, changing to shapely 2.0 with:\n",
      "\n",
      "\tgeopandas.options.use_pygeos = True\n",
      "\n",
      "If you intended to use PyGEOS, set the option to False.\n",
      "  _check_geopandas_using_shapely()\n",
      "/Users/macbook/miniconda3/envs/ome/lib/python3.10/site-packages/geopandas/_compat.py:123: UserWarning: The Shapely GEOS version (3.11.1-CAPI-1.17.1) is incompatible with the GEOS version PyGEOS was compiled with (3.10.4-CAPI-1.16.2). Conversions between both will be slow.\n",
      "  warnings.warn(\n",
      "/Users/macbook/embl/projects/basel/spatialdata/src/spatialdata/__init__.py:9: UserWarning: Geopandas was set to use PyGEOS, changing to shapely 2.0 with:\n",
      "\n",
      "\tgeopandas.options.use_pygeos = True\n",
      "\n",
      "If you intended to use PyGEOS, set the option to False.\n",
      "  _check_geopandas_using_shapely()\n",
      "/Users/macbook/miniconda3/envs/ome/lib/python3.10/site-packages/geopandas/_compat.py:123: UserWarning: The Shapely GEOS version (3.11.1-CAPI-1.17.1) is incompatible with the GEOS version PyGEOS was compiled with (3.10.4-CAPI-1.16.2). Conversions between both will be slow.\n",
      "  warnings.warn(\n",
      "/Users/macbook/embl/projects/basel/spatialdata/src/spatialdata/__init__.py:9: UserWarning: Geopandas was set to use PyGEOS, changing to shapely 2.0 with:\n",
      "\n",
      "\tgeopandas.options.use_pygeos = True\n",
      "\n",
      "If you intended to use PyGEOS, set the option to False.\n",
      "  _check_geopandas_using_shapely()\n",
      "/Users/macbook/miniconda3/envs/ome/lib/python3.10/site-packages/geopandas/_compat.py:123: UserWarning: The Shapely GEOS version (3.11.1-CAPI-1.17.1) is incompatible with the GEOS version PyGEOS was compiled with (3.10.4-CAPI-1.16.2). Conversions between both will be slow.\n",
      "  warnings.warn(\n",
      "/Users/macbook/embl/projects/basel/spatialdata/src/spatialdata/__init__.py:9: UserWarning: Geopandas was set to use PyGEOS, changing to shapely 2.0 with:\n",
      "\n",
      "\tgeopandas.options.use_pygeos = True\n",
      "\n",
      "If you intended to use PyGEOS, set the option to False.\n",
      "  _check_geopandas_using_shapely()\n",
      "/Users/macbook/miniconda3/envs/ome/lib/python3.10/site-packages/geopandas/_compat.py:123: UserWarning: The Shapely GEOS version (3.11.1-CAPI-1.17.1) is incompatible with the GEOS version PyGEOS was compiled with (3.10.4-CAPI-1.16.2). Conversions between both will be slow.\n",
      "  warnings.warn(\n",
      "/Users/macbook/embl/projects/basel/spatialdata/src/spatialdata/__init__.py:9: UserWarning: Geopandas was set to use PyGEOS, changing to shapely 2.0 with:\n",
      "\n",
      "\tgeopandas.options.use_pygeos = True\n",
      "\n",
      "If you intended to use PyGEOS, set the option to False.\n",
      "  _check_geopandas_using_shapely()\n",
      "/Users/macbook/miniconda3/envs/ome/lib/python3.10/site-packages/geopandas/_compat.py:123: UserWarning: The Shapely GEOS version (3.11.1-CAPI-1.17.1) is incompatible with the GEOS version PyGEOS was compiled with (3.10.4-CAPI-1.16.2). Conversions between both will be slow.\n",
      "  warnings.warn(\n",
      "/Users/macbook/embl/projects/basel/spatialdata/src/spatialdata/__init__.py:9: UserWarning: Geopandas was set to use PyGEOS, changing to shapely 2.0 with:\n",
      "\n",
      "\tgeopandas.options.use_pygeos = True\n",
      "\n",
      "If you intended to use PyGEOS, set the option to False.\n",
      "  _check_geopandas_using_shapely()\n"
     ]
    },
    {
     "name": "stdout",
     "output_type": "stream",
     "text": [
      "Testing DataLoader 0: 100%|████████████████████████████████████████████████████████████████████████████████████████| 3/3 [00:01<00:00,  2.72it/s]\n"
     ]
    },
    {
     "data": {
      "text/html": [
       "<pre style=\"white-space:pre;overflow-x:auto;line-height:normal;font-family:Menlo,'DejaVu Sans Mono',consolas,'Courier New',monospace\">┏━━━━━━━━━━━━━━━━━━━━━━━━━━━┳━━━━━━━━━━━━━━━━━━━━━━━━━━━┓\n",
       "┃<span style=\"font-weight: bold\">        Test metric        </span>┃<span style=\"font-weight: bold\">       DataLoader 0        </span>┃\n",
       "┡━━━━━━━━━━━━━━━━━━━━━━━━━━━╇━━━━━━━━━━━━━━━━━━━━━━━━━━━┩\n",
       "│<span style=\"color: #008080; text-decoration-color: #008080\">         test_acc          </span>│<span style=\"color: #800080; text-decoration-color: #800080\">    0.3461538553237915     </span>│\n",
       "└───────────────────────────┴───────────────────────────┘\n",
       "</pre>\n"
      ],
      "text/plain": [
       "┏━━━━━━━━━━━━━━━━━━━━━━━━━━━┳━━━━━━━━━━━━━━━━━━━━━━━━━━━┓\n",
       "┃\u001b[1m \u001b[0m\u001b[1m       Test metric       \u001b[0m\u001b[1m \u001b[0m┃\u001b[1m \u001b[0m\u001b[1m      DataLoader 0       \u001b[0m\u001b[1m \u001b[0m┃\n",
       "┡━━━━━━━━━━━━━━━━━━━━━━━━━━━╇━━━━━━━━━━━━━━━━━━━━━━━━━━━┩\n",
       "│\u001b[36m \u001b[0m\u001b[36m        test_acc         \u001b[0m\u001b[36m \u001b[0m│\u001b[35m \u001b[0m\u001b[35m   0.3461538553237915    \u001b[0m\u001b[35m \u001b[0m│\n",
       "└───────────────────────────┴───────────────────────────┘\n"
      ]
     },
     "metadata": {},
     "output_type": "display_data"
    }
   ],
   "source": [
    "import os\n",
    "\n",
    "import pytorch_lightning as pl\n",
    "from pytorch_lightning.callbacks import LearningRateMonitor\n",
    "from pytorch_lightning.callbacks.progress import TQDMProgressBar\n",
    "from pytorch_lightning.loggers import CSVLogger\n",
    "\n",
    "import torchvision\n",
    "import torch\n",
    "import numpy as np\n",
    "\n",
    "if __name__ == \"__main__\":\n",
    "    pl.seed_everything(7)\n",
    "\n",
    "    PATH_DATASETS = os.environ.get(\"PATH_DATASETS\", \"..\")\n",
    "    BATCH_SIZE = 4096 if torch.cuda.is_available() else 64\n",
    "    NUM_WORKERS = 10 if torch.cuda.is_available() else 8\n",
    "    print(f\"Using {BATCH_SIZE} batch size.\")\n",
    "    print(f\"Using {NUM_WORKERS} workers.\")\n",
    "\n",
    "    tiles_data_module = TilesDataModule(\n",
    "        batch_size=BATCH_SIZE,\n",
    "        num_workers=NUM_WORKERS,\n",
    "        dataset=dataset\n",
    "    )\n",
    "\n",
    "    tiles_data_module.setup()\n",
    "    train_dl = tiles_data_module.train_dataloader()\n",
    "    val_dl = tiles_data_module.val_dataloader()\n",
    "    test_dl = tiles_data_module.test_dataloader()\n",
    "\n",
    "    num_classes = len(cell_types)\n",
    "    in_channels = dataset[0][0].shape[0]\n",
    "    \n",
    "    model = DenseNetModel(\n",
    "        learning_rate=1e-5,\n",
    "        in_channels=in_channels,\n",
    "        num_classes=num_classes,\n",
    "    )\n",
    "    import logging\n",
    "\n",
    "    logging.basicConfig(level=logging.INFO)\n",
    "\n",
    "    trainer = pl.Trainer(\n",
    "        max_epochs=2,\n",
    "        accelerator=\"auto\",\n",
    "        devices=1 if torch.cuda.is_available() else None,  # limiting got iPython runs\n",
    "        logger=CSVLogger(save_dir=\"logs/\"),\n",
    "        callbacks=[\n",
    "            LearningRateMonitor(logging_interval=\"step\"),\n",
    "            TQDMProgressBar(refresh_rate=5),\n",
    "        ],\n",
    "        log_every_n_steps=20,\n",
    "    )\n",
    "\n",
    "    trainer.fit(model, datamodule=tiles_data_module)\n",
    "    trainer.test(model, datamodule=tiles_data_module)\n"
   ]
  },
  {
   "cell_type": "code",
   "execution_count": 13,
   "id": "6780403d-6dcd-4414-b5fd-3aec0c48e2b5",
   "metadata": {},
   "outputs": [
    {
     "name": "stderr",
     "output_type": "stream",
     "text": [
      "GPU available: False, used: False\n",
      "TPU available: False, using: 0 TPU cores\n",
      "IPU available: False, using: 0 IPUs\n",
      "HPU available: False, using: 0 HPUs\n",
      "Missing logger folder: /Users/macbook/embl/projects/basel/spatialdata-notebooks/notebooks/examples/lightning_logs\n"
     ]
    },
    {
     "name": "stdout",
     "output_type": "stream",
     "text": [
      "Predicting: 0it [00:00, ?it/s]"
     ]
    },
    {
     "name": "stderr",
     "output_type": "stream",
     "text": [
      "/Users/macbook/miniconda3/envs/ome/lib/python3.10/site-packages/geopandas/_compat.py:123: UserWarning: The Shapely GEOS version (3.11.1-CAPI-1.17.1) is incompatible with the GEOS version PyGEOS was compiled with (3.10.4-CAPI-1.16.2). Conversions between both will be slow.\n",
      "  warnings.warn(\n",
      "/Users/macbook/embl/projects/basel/spatialdata/src/spatialdata/__init__.py:9: UserWarning: Geopandas was set to use PyGEOS, changing to shapely 2.0 with:\n",
      "\n",
      "\tgeopandas.options.use_pygeos = True\n",
      "\n",
      "If you intended to use PyGEOS, set the option to False.\n",
      "  _check_geopandas_using_shapely()\n",
      "/Users/macbook/miniconda3/envs/ome/lib/python3.10/site-packages/geopandas/_compat.py:123: UserWarning: The Shapely GEOS version (3.11.1-CAPI-1.17.1) is incompatible with the GEOS version PyGEOS was compiled with (3.10.4-CAPI-1.16.2). Conversions between both will be slow.\n",
      "  warnings.warn(\n",
      "/Users/macbook/embl/projects/basel/spatialdata/src/spatialdata/__init__.py:9: UserWarning: Geopandas was set to use PyGEOS, changing to shapely 2.0 with:\n",
      "\n",
      "\tgeopandas.options.use_pygeos = True\n",
      "\n",
      "If you intended to use PyGEOS, set the option to False.\n",
      "  _check_geopandas_using_shapely()\n",
      "/Users/macbook/miniconda3/envs/ome/lib/python3.10/site-packages/geopandas/_compat.py:123: UserWarning: The Shapely GEOS version (3.11.1-CAPI-1.17.1) is incompatible with the GEOS version PyGEOS was compiled with (3.10.4-CAPI-1.16.2). Conversions between both will be slow.\n",
      "  warnings.warn(\n",
      "/Users/macbook/embl/projects/basel/spatialdata/src/spatialdata/__init__.py:9: UserWarning: Geopandas was set to use PyGEOS, changing to shapely 2.0 with:\n",
      "\n",
      "\tgeopandas.options.use_pygeos = True\n",
      "\n",
      "If you intended to use PyGEOS, set the option to False.\n",
      "  _check_geopandas_using_shapely()\n",
      "/Users/macbook/miniconda3/envs/ome/lib/python3.10/site-packages/geopandas/_compat.py:123: UserWarning: The Shapely GEOS version (3.11.1-CAPI-1.17.1) is incompatible with the GEOS version PyGEOS was compiled with (3.10.4-CAPI-1.16.2). Conversions between both will be slow.\n",
      "  warnings.warn(\n",
      "/Users/macbook/embl/projects/basel/spatialdata/src/spatialdata/__init__.py:9: UserWarning: Geopandas was set to use PyGEOS, changing to shapely 2.0 with:\n",
      "\n",
      "\tgeopandas.options.use_pygeos = True\n",
      "\n",
      "If you intended to use PyGEOS, set the option to False.\n",
      "  _check_geopandas_using_shapely()\n",
      "/Users/macbook/miniconda3/envs/ome/lib/python3.10/site-packages/geopandas/_compat.py:123: UserWarning: The Shapely GEOS version (3.11.1-CAPI-1.17.1) is incompatible with the GEOS version PyGEOS was compiled with (3.10.4-CAPI-1.16.2). Conversions between both will be slow.\n",
      "  warnings.warn(\n",
      "/Users/macbook/embl/projects/basel/spatialdata/src/spatialdata/__init__.py:9: UserWarning: Geopandas was set to use PyGEOS, changing to shapely 2.0 with:\n",
      "\n",
      "\tgeopandas.options.use_pygeos = True\n",
      "\n",
      "If you intended to use PyGEOS, set the option to False.\n",
      "  _check_geopandas_using_shapely()\n",
      "/Users/macbook/miniconda3/envs/ome/lib/python3.10/site-packages/geopandas/_compat.py:123: UserWarning: The Shapely GEOS version (3.11.1-CAPI-1.17.1) is incompatible with the GEOS version PyGEOS was compiled with (3.10.4-CAPI-1.16.2). Conversions between both will be slow.\n",
      "  warnings.warn(\n",
      "/Users/macbook/embl/projects/basel/spatialdata/src/spatialdata/__init__.py:9: UserWarning: Geopandas was set to use PyGEOS, changing to shapely 2.0 with:\n",
      "\n",
      "\tgeopandas.options.use_pygeos = True\n",
      "\n",
      "If you intended to use PyGEOS, set the option to False.\n",
      "  _check_geopandas_using_shapely()\n",
      "/Users/macbook/miniconda3/envs/ome/lib/python3.10/site-packages/geopandas/_compat.py:123: UserWarning: The Shapely GEOS version (3.11.1-CAPI-1.17.1) is incompatible with the GEOS version PyGEOS was compiled with (3.10.4-CAPI-1.16.2). Conversions between both will be slow.\n",
      "  warnings.warn(\n",
      "/Users/macbook/embl/projects/basel/spatialdata/src/spatialdata/__init__.py:9: UserWarning: Geopandas was set to use PyGEOS, changing to shapely 2.0 with:\n",
      "\n",
      "\tgeopandas.options.use_pygeos = True\n",
      "\n",
      "If you intended to use PyGEOS, set the option to False.\n",
      "  _check_geopandas_using_shapely()\n",
      "/Users/macbook/miniconda3/envs/ome/lib/python3.10/site-packages/geopandas/_compat.py:123: UserWarning: The Shapely GEOS version (3.11.1-CAPI-1.17.1) is incompatible with the GEOS version PyGEOS was compiled with (3.10.4-CAPI-1.16.2). Conversions between both will be slow.\n",
      "  warnings.warn(\n",
      "/Users/macbook/embl/projects/basel/spatialdata/src/spatialdata/__init__.py:9: UserWarning: Geopandas was set to use PyGEOS, changing to shapely 2.0 with:\n",
      "\n",
      "\tgeopandas.options.use_pygeos = True\n",
      "\n",
      "If you intended to use PyGEOS, set the option to False.\n",
      "  _check_geopandas_using_shapely()\n"
     ]
    },
    {
     "name": "stdout",
     "output_type": "stream",
     "text": [
      "Predicting DataLoader 0: 100%|███████████████████████████████████████████████████████████████████████████████████| 29/29 [00:50<00:00,  1.75s/it]\n",
      "(array([0, 1, 2, 3, 4, 5, 6, 7, 8]), array([ 67, 388,  63,  94, 285, 249,  18,  45, 603]))\n"
     ]
    }
   ],
   "source": [
    "# model = DenseNetModel.load_from_checkpoint('logs/lightning_logs/version_12/checkpoints/epoch=1-step=40.ckpt')\n",
    "\n",
    "# disable randomness, dropout, etc...\n",
    "model.eval()\n",
    "\n",
    "trainer = pl.Trainer(\n",
    "    accelerator=\"auto\",\n",
    "    devices=1 if torch.cuda.is_available() else None,  # limiting got iPython runs\n",
    "    callbacks=[\n",
    "        TQDMProgressBar(refresh_rate=10),\n",
    "    ],\n",
    ")\n",
    "\n",
    "predictions = trainer.predict(datamodule=tiles_data_module, model=model)\n",
    "predictions = torch.cat(predictions, dim=0)\n",
    "\n",
    "print(np.unique(predictions.detach().cpu().numpy(), return_counts=True))"
   ]
  },
  {
   "cell_type": "code",
   "execution_count": 20,
   "id": "fd9bfecf-627b-4439-8aff-87ad7e5d75dd",
   "metadata": {},
   "outputs": [],
   "source": [
    "p = predictions.detach().cpu().numpy()\n",
    "predicted_celltype_major = []\n",
    "for i in p:\n",
    "    predicted_celltype_major.append(cell_types[i])\n",
    "s = pd.Series(predicted_celltype_major)\n",
    "categorical = pd.Categorical(s, categories=cell_types)\n",
    "\n",
    "categorical.index = merged.table.obs.index\n",
    "merged.table.obs[\"predicted_celltype_major\"] = categorical"
   ]
  },
  {
   "cell_type": "markdown",
   "id": "4435c355-a6b8-417f-a4dc-1ad8a1544d6c",
   "metadata": {},
   "source": [
    "Here are the precitions from the model."
   ]
  },
  {
   "cell_type": "markdown",
   "id": "6572bcd7-cb56-4467-a161-936a8de63d05",
   "metadata": {},
   "source": [
    "![image.png](attachments/dense_net_predicted.png)"
   ]
  },
  {
   "cell_type": "code",
   "execution_count": 19,
   "id": "7d7c3538-863f-47b9-bde0-e9025c415fd4",
   "metadata": {
    "tags": []
   },
   "outputs": [
    {
     "name": "stdout",
     "output_type": "stream",
     "text": [
      "2023-04-14 21:14:44,743 - No OpenGL_accelerate module loaded: No module named 'OpenGL_accelerate'\n"
     ]
    },
    {
     "data": {
      "text/plain": [
       "<napari_spatialdata.interactive.Interactive at 0x1ee8af550>"
      ]
     },
     "execution_count": 19,
     "metadata": {},
     "output_type": "execute_result"
    },
    {
     "name": "stderr",
     "output_type": "stream",
     "text": [
      "2023-04-14 21:15:47.237 python[9511:160305] +[CATransaction synchronize] called within transaction\n",
      "2023-04-14 21:16:10.596 python[9511:160305] +[CATransaction synchronize] called within transaction\n"
     ]
    }
   ],
   "source": [
    "from napari_spatialdata import Interactive\n",
    "\n",
    "Interactive(merged)"
   ]
  }
 ],
 "metadata": {
  "kernelspec": {
   "display_name": "Python 3 (ipykernel)",
   "language": "python",
   "name": "python3"
  },
  "language_info": {
   "codemirror_mode": {
    "name": "ipython",
    "version": 3
   },
   "file_extension": ".py",
   "mimetype": "text/x-python",
   "name": "python",
   "nbconvert_exporter": "python",
   "pygments_lexer": "ipython3",
   "version": "3.10.9"
  }
 },
 "nbformat": 4,
 "nbformat_minor": 5
}
