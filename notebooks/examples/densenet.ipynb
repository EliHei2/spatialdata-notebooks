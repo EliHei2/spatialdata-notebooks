{
 "cells": [
  {
   "cell_type": "markdown",
   "id": "0ddc69d6-5cb1-4da3-9364-723f8cc046ae",
   "metadata": {
    "tags": []
   },
   "source": [
    "# Deep learning example on image tiles"
   ]
  }
 ],
 "metadata": {
  "kernelspec": {
   "display_name": "Python 3 (ipykernel)",
   "language": "python",
   "name": "python3"
  },
  "language_info": {
   "codemirror_mode": {
    "name": "ipython",
    "version": 3
   },
   "file_extension": ".py",
   "mimetype": "text/x-python",
   "name": "python",
   "nbconvert_exporter": "python",
   "pygments_lexer": "ipython3",
   "version": "3.10.9"
  }
 },
 "nbformat": 4,
 "nbformat_minor": 5
}
