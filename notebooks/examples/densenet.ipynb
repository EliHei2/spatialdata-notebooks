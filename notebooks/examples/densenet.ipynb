{
 "cells": [
  {
   "cell_type": "markdown",
   "source": [
    "# Deep learning example on image tiles"
   ],
   "metadata": {
    "collapsed": false
   }
  },
  {
   "cell_type": "code",
   "execution_count": 9,
   "outputs": [
    {
     "name": "stderr",
     "output_type": "stream",
     "text": [
      "/Users/macbook/miniconda3/envs/ome/lib/python3.10/site-packages/tqdm/auto.py:21: TqdmWarning: IProgress not found. Please update jupyter and ipywidgets. See https://ipywidgets.readthedocs.io/en/stable/user_install.html\n",
      "  from .autonotebook import tqdm as notebook_tqdm\n",
      "/Users/macbook/miniconda3/envs/ome/lib/python3.10/site-packages/geopandas/_compat.py:123: UserWarning: The Shapely GEOS version (3.11.1-CAPI-1.17.1) is incompatible with the GEOS version PyGEOS was compiled with (3.10.4-CAPI-1.16.2). Conversions between both will be slow.\n",
      "  warnings.warn(\n",
      "/Users/macbook/embl/projects/basel/spatialdata/src/spatialdata/__init__.py:9: UserWarning: Geopandas was set to use PyGEOS, changing to shapely 2.0 with:\n",
      "\n",
      "\tgeopandas.options.use_pygeos = True\n",
      "\n",
      "If you intended to use PyGEOS, set the option to False.\n",
      "  _check_geopandas_using_shapely()\n"
     ]
    },
    {
     "name": "stdout",
     "output_type": "stream",
     "text": [
      "2023-04-10 16:09:12,099 - Created a temporary directory at /tmp/tmpx5zjosyv\n",
      "2023-04-10 16:09:12,100 - Writing /tmp/tmpx5zjosyv/_remote_module_non_scriptable.py\n"
     ]
    }
   ],
   "source": [
    "from anndata import AnnData\n",
    "import torch.nn.functional as F\n",
    "import numpy as np\n",
    "from spatial_image import SpatialImage\n",
    "import spatialdata as sd\n",
    "from napari_spatialdata import Interactive\n",
    "from spatialdata import SpatialData\n",
    "from spatialdata.transformations import get_transformation\n",
    "from spatialdata.dataloader.datasets import ImageTilesDataset\n",
    "from tqdm import tqdm\n",
    "from spatialdata import transform\n",
    "from typing import Dict\n",
    "import os\n",
    "import scanpy as sc\n",
    "\n",
    "from monai.networks.nets import DenseNet121\n",
    "import pytorch_lightning as pl\n",
    "from pytorch_lightning.callbacks import LearningRateMonitor\n",
    "from pytorch_lightning.callbacks.progress import TQDMProgressBar\n",
    "from pytorch_lightning.loggers import CSVLogger\n",
    "from torch.nn import CrossEntropyLoss\n",
    "from torch.optim import Adam\n",
    "import torchvision\n",
    "import torch\n",
    "from torch.utils.data import DataLoader\n",
    "from pytorch_lightning import LightningDataModule\n",
    "import torch.multiprocessing as mp\n"
   ],
   "metadata": {
    "collapsed": false,
    "ExecuteTime": {
     "start_time": "2023-04-10T16:09:05.375252Z",
     "end_time": "2023-04-10T16:09:12.172308Z"
    }
   }
  },
  {
   "cell_type": "markdown",
   "source": [
    "## Preparing the data"
   ],
   "metadata": {
    "collapsed": false
   }
  },
  {
   "cell_type": "code",
   "execution_count": 12,
   "outputs": [
    {
     "name": "stdout",
     "output_type": "stream",
     "text": [
      "current working directory: /Users/macbook/embl/projects/basel/spatialdata-notebooks/notebooks/examples\n",
      "2023-04-10 16:12:01,988 - root_attr: multiscales\n",
      "2023-04-10 16:12:01,989 - datasets [{'coordinateTransformations': [{'scale': [1.0, 1.0, 1.0], 'type': 'scale'}], 'path': '0'}, {'coordinateTransformations': [{'scale': [1.0, 2.0, 2.0], 'type': 'scale'}], 'path': '1'}, {'coordinateTransformations': [{'scale': [1.0, 4.000310366232154, 4.0], 'type': 'scale'}], 'path': '2'}, {'coordinateTransformations': [{'scale': [1.0, 8.000620732464307, 8.0], 'type': 'scale'}], 'path': '3'}, {'coordinateTransformations': [{'scale': [1.0, 16.001241464928615, 16.003615002259377], 'type': 'scale'}], 'path': '4'}]\n",
      "2023-04-10 16:12:01,993 - resolution: 0\n",
      "2023-04-10 16:12:01,994 -  - shape ('c', 'y', 'x') = (1, 25778, 35416)\n",
      "2023-04-10 16:12:01,994 -  - chunks =  ['1', '4096 (+ 1202)', '4096 (+ 2648)']\n",
      "2023-04-10 16:12:01,995 -  - dtype = uint16\n",
      "2023-04-10 16:12:01,997 - resolution: 1\n",
      "2023-04-10 16:12:01,998 -  - shape ('c', 'y', 'x') = (1, 12889, 17708)\n",
      "2023-04-10 16:12:01,998 -  - chunks =  ['1', '4096 (+ 601)', '4096 (+ 1324)']\n",
      "2023-04-10 16:12:01,998 -  - dtype = uint16\n",
      "2023-04-10 16:12:02,000 - resolution: 2\n",
      "2023-04-10 16:12:02,000 -  - shape ('c', 'y', 'x') = (1, 6444, 8854)\n",
      "2023-04-10 16:12:02,001 -  - chunks =  ['1', '4096 (+ 2348)', '4096 (+ 662)']\n",
      "2023-04-10 16:12:02,001 -  - dtype = uint16\n",
      "2023-04-10 16:12:02,003 - resolution: 3\n",
      "2023-04-10 16:12:02,003 -  - shape ('c', 'y', 'x') = (1, 3222, 4427)\n",
      "2023-04-10 16:12:02,004 -  - chunks =  ['1', '3222', '4096 (+ 331)']\n",
      "2023-04-10 16:12:02,004 -  - dtype = uint16\n",
      "2023-04-10 16:12:02,006 - resolution: 4\n",
      "2023-04-10 16:12:02,006 -  - shape ('c', 'y', 'x') = (1, 1611, 2213)\n",
      "2023-04-10 16:12:02,006 -  - chunks =  ['1', '1611', '2213']\n",
      "2023-04-10 16:12:02,007 -  - dtype = uint16\n",
      "2023-04-10 16:12:02,023 - root_attr: multiscales\n",
      "2023-04-10 16:12:02,023 - datasets [{'coordinateTransformations': [{'scale': [1.0, 1.0, 1.0], 'type': 'scale'}], 'path': '0'}, {'coordinateTransformations': [{'scale': [1.0, 2.0, 2.0], 'type': 'scale'}], 'path': '1'}, {'coordinateTransformations': [{'scale': [1.0, 4.000310366232154, 4.0], 'type': 'scale'}], 'path': '2'}, {'coordinateTransformations': [{'scale': [1.0, 8.000620732464307, 8.0], 'type': 'scale'}], 'path': '3'}, {'coordinateTransformations': [{'scale': [1.0, 16.001241464928615, 16.003615002259377], 'type': 'scale'}], 'path': '4'}]\n",
      "2023-04-10 16:12:02,025 - resolution: 0\n",
      "2023-04-10 16:12:02,025 -  - shape ('c', 'y', 'x') = (1, 25778, 35416)\n",
      "2023-04-10 16:12:02,025 -  - chunks =  ['1', '4096 (+ 1202)', '4096 (+ 2648)']\n",
      "2023-04-10 16:12:02,026 -  - dtype = uint16\n",
      "2023-04-10 16:12:02,027 - resolution: 1\n",
      "2023-04-10 16:12:02,028 -  - shape ('c', 'y', 'x') = (1, 12889, 17708)\n",
      "2023-04-10 16:12:02,028 -  - chunks =  ['1', '4096 (+ 601)', '4096 (+ 1324)']\n",
      "2023-04-10 16:12:02,028 -  - dtype = uint16\n",
      "2023-04-10 16:12:02,030 - resolution: 2\n",
      "2023-04-10 16:12:02,030 -  - shape ('c', 'y', 'x') = (1, 6444, 8854)\n",
      "2023-04-10 16:12:02,031 -  - chunks =  ['1', '4096 (+ 2348)', '4096 (+ 662)']\n",
      "2023-04-10 16:12:02,031 -  - dtype = uint16\n",
      "2023-04-10 16:12:02,033 - resolution: 3\n",
      "2023-04-10 16:12:02,034 -  - shape ('c', 'y', 'x') = (1, 3222, 4427)\n",
      "2023-04-10 16:12:02,034 -  - chunks =  ['1', '3222', '4096 (+ 331)']\n",
      "2023-04-10 16:12:02,035 -  - dtype = uint16\n",
      "2023-04-10 16:12:02,037 - resolution: 4\n",
      "2023-04-10 16:12:02,037 -  - shape ('c', 'y', 'x') = (1, 1611, 2213)\n",
      "2023-04-10 16:12:02,038 -  - chunks =  ['1', '1611', '2213']\n",
      "2023-04-10 16:12:02,038 -  - dtype = uint16\n",
      "\u001B[34mINFO    \u001B[0m Instance key `cell_id` could be of type `pd.Categorical`. Consider casting it.                            \n",
      "2023-04-10 16:12:04,365 - root_attr: multiscales\n",
      "2023-04-10 16:12:04,367 - datasets [{'coordinateTransformations': [{'scale': [1.0, 1.0, 1.0], 'type': 'scale'}], 'path': '0'}, {'coordinateTransformations': [{'scale': [1.0, 2.000092721372276, 2.0001025430680888], 'type': 'scale'}], 'path': '1'}, {'coordinateTransformations': [{'scale': [1.0, 4.000556379821958, 4.0002050861361775], 'type': 'scale'}], 'path': '2'}, {'coordinateTransformations': [{'scale': [1.0, 8.001112759643917, 8.000410172272355], 'type': 'scale'}], 'path': '3'}, {'coordinateTransformations': [{'scale': [1.0, 16.002225519287833, 16.00082034454471], 'type': 'scale'}], 'path': '4'}]\n",
      "2023-04-10 16:12:04,368 - resolution: 0\n",
      "2023-04-10 16:12:04,369 -  - shape ('c', 'y', 'x') = (3, 21571, 19505)\n",
      "2023-04-10 16:12:04,369 -  - chunks =  ['3', '256 (+ 67)', '256 (+ 49)']\n",
      "2023-04-10 16:12:04,369 -  - dtype = uint8\n",
      "2023-04-10 16:12:04,371 - resolution: 1\n",
      "2023-04-10 16:12:04,371 -  - shape ('c', 'y', 'x') = (3, 10785, 9752)\n",
      "2023-04-10 16:12:04,372 -  - chunks =  ['3', '256 (+ 33)', '256 (+ 24)']\n",
      "2023-04-10 16:12:04,372 -  - dtype = uint8\n",
      "2023-04-10 16:12:04,374 - resolution: 2\n",
      "2023-04-10 16:12:04,375 -  - shape ('c', 'y', 'x') = (3, 5392, 4876)\n",
      "2023-04-10 16:12:04,375 -  - chunks =  ['3', '256 (+ 16)', '256 (+ 12)']\n",
      "2023-04-10 16:12:04,375 -  - dtype = uint8\n",
      "2023-04-10 16:12:04,378 - resolution: 3\n",
      "2023-04-10 16:12:04,378 -  - shape ('c', 'y', 'x') = (3, 2696, 2438)\n",
      "2023-04-10 16:12:04,378 -  - chunks =  ['3', '256 (+ 136)', '256 (+ 134)']\n",
      "2023-04-10 16:12:04,379 -  - dtype = uint8\n",
      "2023-04-10 16:12:04,381 - resolution: 4\n",
      "2023-04-10 16:12:04,381 -  - shape ('c', 'y', 'x') = (3, 1348, 1219)\n",
      "2023-04-10 16:12:04,382 -  - chunks =  ['3', '256 (+ 68)', '256 (+ 195)']\n",
      "2023-04-10 16:12:04,382 -  - dtype = uint8\n",
      "2023-04-10 16:12:04,394 - root_attr: multiscales\n",
      "2023-04-10 16:12:04,395 - datasets [{'coordinateTransformations': [{'scale': [1.0, 1.0, 1.0], 'type': 'scale'}], 'path': '0'}]\n",
      "2023-04-10 16:12:04,396 - resolution: 0\n",
      "2023-04-10 16:12:04,397 -  - shape ('c', 'y', 'x') = (3, 2000, 1809)\n",
      "2023-04-10 16:12:04,397 -  - chunks =  ['3', '2000', '1809']\n",
      "2023-04-10 16:12:04,397 -  - dtype = uint8\n",
      "2023-04-10 16:12:04,401 - root_attr: multiscales\n",
      "2023-04-10 16:12:04,402 - datasets [{'coordinateTransformations': [{'scale': [1.0, 1.0, 1.0], 'type': 'scale'}], 'path': '0'}]\n",
      "2023-04-10 16:12:04,403 - resolution: 0\n",
      "2023-04-10 16:12:04,403 -  - shape ('c', 'y', 'x') = (3, 600, 543)\n",
      "2023-04-10 16:12:04,403 -  - chunks =  ['3', '600', '543']\n",
      "2023-04-10 16:12:04,404 -  - dtype = uint8\n"
     ]
    },
    {
     "name": "stderr",
     "output_type": "stream",
     "text": [
      "/Users/macbook/miniconda3/envs/ome/lib/python3.10/site-packages/anndata/_core/anndata.py:121: ImplicitModificationWarning: Transforming to str index.\n",
      "  warnings.warn(\"Transforming to str index.\", ImplicitModificationWarning)\n",
      "/Users/macbook/miniconda3/envs/ome/lib/python3.10/site-packages/anndata/_core/anndata.py:1830: UserWarning: Variable names are not unique. To make them unique, call `.var_names_make_unique`.\n",
      "  utils.warn_names_duplicates(\"var\")\n"
     ]
    }
   ],
   "source": [
    "print(\"current working directory:\", os.getcwd())\n",
    "SPATIALDATA_SANDBOX_PATH = \"../../../spatialdata-sandbox\"\n",
    "GENERATED_DATA_PATH = os.path.join(\n",
    "    SPATIALDATA_SANDBOX_PATH, \"generated_data/xenium_visium_integration\"\n",
    ")\n",
    "assert os.path.isdir(\n",
    "    GENERATED_DATA_PATH\n",
    "), f\"{GENERATED_DATA_PATH} not found, please use symlinks to make it available\"\n",
    "\n",
    "XENIUM_SDATA_PATH = os.path.join(\n",
    "    SPATIALDATA_SANDBOX_PATH, \"xenium_rep1_io/data.zarr\"\n",
    ")\n",
    "VISIUM_SDATA_PATH = os.path.join(\n",
    "    SPATIALDATA_SANDBOX_PATH, \"visium_associated_xenium_io/data.zarr\"\n",
    ")\n",
    "\n",
    "assert os.path.isdir(XENIUM_SDATA_PATH)\n",
    "assert os.path.isdir(VISIUM_SDATA_PATH)\n",
    "\n",
    "xenium_sdata = sd.read_zarr(XENIUM_SDATA_PATH)\n",
    "visium_sdata = sd.read_zarr(VISIUM_SDATA_PATH)\n",
    "\n",
    "VISIUM_CLONAL_DATA = os.path.join(GENERATED_DATA_PATH, \"visium_copyKat.h5ad\")\n",
    "assert os.path.isfile(VISIUM_CLONAL_DATA)\n",
    "adata = sc.read_h5ad(VISIUM_CLONAL_DATA)\n",
    "s = adata.obs[\"clone\"]\n",
    "s.index = visium_sdata.table.obs.index\n",
    "visium_sdata.table.obs[\"clone\"] = s"
   ],
   "metadata": {
    "collapsed": false,
    "ExecuteTime": {
     "start_time": "2023-04-10T16:12:01.982115Z",
     "end_time": "2023-04-10T16:12:05.313258Z"
    }
   }
  },
  {
   "cell_type": "code",
   "execution_count": null,
   "outputs": [],
   "source": [],
   "metadata": {
    "collapsed": false
   }
  }
 ],
 "metadata": {
  "kernelspec": {
   "display_name": "Python 3 (ipykernel)",
   "language": "python",
   "name": "python3"
  },
  "language_info": {
   "codemirror_mode": {
    "name": "ipython",
    "version": 3
   },
   "file_extension": ".py",
   "mimetype": "text/x-python",
   "name": "python",
   "nbconvert_exporter": "python",
   "pygments_lexer": "ipython3",
   "version": "3.10.9"
  }
 },
 "nbformat": 4,
 "nbformat_minor": 5
}
