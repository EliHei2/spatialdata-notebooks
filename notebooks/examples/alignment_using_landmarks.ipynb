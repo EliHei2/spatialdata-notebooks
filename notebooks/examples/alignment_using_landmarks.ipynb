{
 "cells": [
  {
   "cell_type": "markdown",
   "id": "3f941ac7-6cd1-4087-ba7b-15a3d2cabf77",
   "metadata": {},
   "source": [
    "# Use landmark annotations to align multiple -omics layers"
   ]
  }
 ],
 "metadata": {
  "kernelspec": {
   "display_name": "Python 3 (ipykernel)",
   "language": "python",
   "name": "python3"
  },
  "language_info": {
   "codemirror_mode": {
    "name": "ipython",
    "version": 3
   },
   "file_extension": ".py",
   "mimetype": "text/x-python",
   "name": "python",
   "nbconvert_exporter": "python",
   "pygments_lexer": "ipython3",
   "version": "3.10.9"
  }
 },
 "nbformat": 4,
 "nbformat_minor": 5
}
