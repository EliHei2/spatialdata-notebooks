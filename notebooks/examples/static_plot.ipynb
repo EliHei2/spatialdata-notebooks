{
 "cells": [
  {
   "cell_type": "markdown",
   "id": "bc591823-5ad2-4a79-b0bc-18bcd70a3dd0",
   "metadata": {},
   "source": [
    "# Publication-ready data visualizations with spatialdata-plot"
   ]
  }
 ],
 "metadata": {
  "kernelspec": {
   "display_name": "Python 3 (ipykernel)",
   "language": "python",
   "name": "python3"
  },
  "language_info": {
   "codemirror_mode": {
    "name": "ipython",
    "version": 3
   },
   "file_extension": ".py",
   "mimetype": "text/x-python",
   "name": "python",
   "nbconvert_exporter": "python",
   "pygments_lexer": "ipython3",
   "version": "3.10.9"
  }
 },
 "nbformat": 4,
 "nbformat_minor": 5
}
