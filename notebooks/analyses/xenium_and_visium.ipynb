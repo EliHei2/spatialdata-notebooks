{
 "cells": [
  {
   "cell_type": "markdown",
   "id": "dc62a3d8-c542-4cf6-acf9-1c66fd3f0c33",
   "metadata": {},
   "source": [
    "# Integration and joint analysis of Xenium and Visium data"
   ]
  }
 ],
 "metadata": {
  "kernelspec": {
   "display_name": "Python 3 (ipykernel)",
   "language": "python",
   "name": "python3"
  },
  "language_info": {
   "codemirror_mode": {
    "name": "ipython",
    "version": 3
   },
   "file_extension": ".py",
   "mimetype": "text/x-python",
   "name": "python",
   "nbconvert_exporter": "python",
   "pygments_lexer": "ipython3",
   "version": "3.10.9"
  }
 },
 "nbformat": 4,
 "nbformat_minor": 5
}
